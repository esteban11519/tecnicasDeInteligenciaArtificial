{
 "cells": [
  {
   "cell_type": "markdown",
   "metadata": {},
   "source": [
    "\n",
    "\n",
    "<p style=\"font-size:300%; background-color:pink; color:blue; text-align:center;line-height : 80px; margin : 0; padding : 0;\">\n",
    "Taller 7: Clasificación con RNA</p>\n",
    "<p style=\"font-size:240%; background-color:pink; color:red; text-align:center;line-height : 60px; margin : 0; padding : 0;\">\n",
    "    \n",
    "Técnicas de Inteligencia Artificial - Visión de Máquina </p1>\n",
    "\n",
    "<p style=\"font-size:200%; text-align:center; line-height : 40px;  margin-top : 0; margin-bottom : 0; \"> \n",
    "  <br>Est. Brian Camilo Valencia Peña (bcvalenciap@unal.edu.co)\n",
    "  <br>Est. Esteban Ladino Fajardo (eladinof@unal.edu.co)\n",
    "</p>\n",
    "\n",
    "<p style=\"font-size:180%; text-align:center; line-height : 30px;  margin-top : 0; margin-bottom : 0; \"> <br><br>INGENIERÍA MECATRÓNICA Y ELECTRÓNICA</p>\n",
    "<p style=\"font-size:180%; text-align:center; line-height : 30px; margin-top : 0; \"> Facultad de Ingeniería</p>\n",
    "<p style=\"font-size:160%; text-align:center; line-height : 30px; margin-top : 0; \"> Universidad Nacional de Colombia Sede Bogotá</p>\n",
    "<br>\n",
    "<img src=\"../figs/Escudo_UN.png\",width=100,height=100>\n",
    "\n",
    "<p style=\"font-size:160%; text-align:center; line-height : 30px; margin-top : 0; \"> <br>3 de junio de 2022</p>"
   ]
  },
  {
   "cell_type": "markdown",
   "metadata": {},
   "source": [
    "## Enunciado\n",
    "\n",
    "* Estudiar el uso de Redes Neuronales en scikit-learn.\n",
    "    * Machine Learning with Neural Networks Using scikit-learn https://www.pluralsight.com/guides/\n",
    "machine-learning-neural-networks-scikit-learn\n",
    "\n",
    "\n",
    "* Estudiar, evaluar y discutir el desempeño de las Redes Neuronales Artificiales como clasificador, cuando son aplicadas a un conjunto de vectores de características como el del proyecto que está desarrollando para el curso.\n"
   ]
  }
 ],
 "metadata": {
  "interpreter": {
   "hash": "916dbcbb3f70747c44a77c7bcd40155683ae19c65e1c03b4aa3499c5328201f1"
  },
  "kernelspec": {
   "display_name": "Python 3.8.10 64-bit",
   "language": "python",
   "name": "python3"
  },
  "language_info": {
   "name": "python",
   "version": "3.8.10"
  },
  "orig_nbformat": 4
 },
 "nbformat": 4,
 "nbformat_minor": 2
}
