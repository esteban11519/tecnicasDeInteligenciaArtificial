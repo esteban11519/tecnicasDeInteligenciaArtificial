{
 "cells": [
  {
   "cell_type": "markdown",
   "metadata": {},
   "source": [
    "\n",
    "\n",
    "<p style=\"font-size:300%; background-color:pink; color:blue; text-align:center;line-height : 80px; margin : 0; padding : 0;\">\n",
    "Taller 7: Clasificación con RNA</p>\n",
    "<p style=\"font-size:240%; background-color:pink; color:red; text-align:center;line-height : 60px; margin : 0; padding : 0;\">\n",
    "    \n",
    "Técnicas de Inteligencia Artificial - Visión de Máquina </p1>\n",
    "\n",
    "<p style=\"font-size:200%; text-align:center; line-height : 40px;  margin-top : 0; margin-bottom : 0; \"> \n",
    "  <br>Est. Brian Camilo Valencia Peña (bcvalenciap@unal.edu.co)\n",
    "  <br>Est. Esteban Ladino Fajardo (eladinof@unal.edu.co)\n",
    "</p>\n",
    "\n",
    "<p style=\"font-size:180%; text-align:center; line-height : 30px;  margin-top : 0; margin-bottom : 0; \"> <br><br>INGENIERÍA MECATRÓNICA Y ELECTRÓNICA</p>\n",
    "<p style=\"font-size:180%; text-align:center; line-height : 30px; margin-top : 0; \"> Facultad de Ingeniería</p>\n",
    "<p style=\"font-size:160%; text-align:center; line-height : 30px; margin-top : 0; \"> Universidad Nacional de Colombia Sede Bogotá</p>\n",
    "<br>\n",
    "<img src=\"../figs/Escudo_UN.png\",width=100,height=100>\n",
    "\n",
    "<p style=\"font-size:160%; text-align:center; line-height : 30px; margin-top : 0; \"> <br>3 de junio de 2022</p>"
   ]
  },
  {
   "cell_type": "markdown",
   "metadata": {},
   "source": [
    "## Enunciado\n",
    "\n",
    "1. Estudiar el uso de Redes Neuronales en scikit-learn.\n",
    "    * Machine Learning with Neural Networks Using scikit-learn https://www.pluralsight.com/guides/\n",
    "machine-learning-neural-networks-scikit-learn\n",
    "\n",
    "\n",
    "2. Estudiar, evaluar y discutir el desempeño de las Redes Neuronales Artificiales como clasificador, cuando son aplicadas a un conjunto de vectores de características como el del proyecto que está desarrollando para el curso.\n"
   ]
  },
  {
   "cell_type": "markdown",
   "metadata": {},
   "source": [
    "## Desarrollo Punto 1\n",
    "\n",
    "El siguiente código fue proporcionado por Vargas [rrr1] y el objetivo es comentarlo. \n"
   ]
  },
  {
   "cell_type": "markdown",
   "metadata": {},
   "source": [
    "\n",
    "#### Algoritmo de entrenamiento del Perceptrón\n",
    "\n",
    "* Una Epoca - por set de características\n",
    "* Función de Activación: Escalón unitario\n",
    "* Error: $\\varepsilon = \\bar{y} - y$, \n",
    "Donde,\n",
    "    * $\\bar{y}$: La salida deseada\n",
    "    * Y: La salida actual "
   ]
  },
  {
   "cell_type": "code",
   "execution_count": 2,
   "metadata": {},
   "outputs": [],
   "source": [
    "# Librerías necesarias\n",
    "import numpy as np\n",
    "import matplotlib.pyplot as plt\n",
    "import matplotlib"
   ]
  },
  {
   "cell_type": "markdown",
   "metadata": {},
   "source": [
    "A continuación, se establecen las características de entrada y se les agrega el bias a la matriz para facilitar los cálculos"
   ]
  },
  {
   "cell_type": "code",
   "execution_count": 3,
   "metadata": {},
   "outputs": [
    {
     "name": "stdout",
     "output_type": "stream",
     "text": [
      "[[2.  3.  1. ]\n",
      " [8.  7.  1. ]\n",
      " [2.5 2.  1. ]\n",
      " [6.  4.  1. ]]\n",
      "[[1.]\n",
      " [0.]\n",
      " [1.]\n",
      " [0.]]\n"
     ]
    },
    {
     "data": {
      "text/plain": [
       "[<matplotlib.lines.Line2D at 0x7f7ee01e0280>]"
      ]
     },
     "execution_count": 3,
     "metadata": {},
     "output_type": "execute_result"
    },
    {
     "data": {
      "image/png": "[encoded data removed]",
      "text/plain": [
       "<Figure size 720x720 with 1 Axes>"
      ]
     },
     "metadata": {
      "needs_background": "light"
     },
     "output_type": "display_data"
    }
   ],
   "source": [
    "# Display plots inline and change default figure size\n",
    "%matplotlib inline\n",
    "matplotlib.rcParams['figure.figsize'] = (10.0, 10.0)\n",
    "\n",
    "#==============================================\n",
    "#  X: Dataset de entrada en matriz donde cada fila es un ejemplo de entrentamiento\n",
    "#  El último componente de cada fila hace referencia a un factor neutro que posteriormente \n",
    "# se va a multiplicar en la matriz w por un valor de bias. \n",
    "X = np.array([  [2.0,3.0,1],\n",
    "                [8.0,7.0,1],\n",
    "                [2.5,2.0,1],\n",
    "                [6.0,4.0,1] ])\n",
    "\n",
    "#X = np.array([  [2.0,1.0,1],\n",
    "                #[8.5,9.0,1],\n",
    "                #[8.0,2.0,1],\n",
    "                #[1.5,8.5,1] ])\n",
    "\n",
    "#==============================================\n",
    "# output dataset   \n",
    "# y: Dataset de salida Output, matriz donde cada fila es  un ejemplo de enrtenamiento.\n",
    "# Este es el vector objetivo\n",
    "y = np.array([[1.0,0.0,1.0,0.0]]).T\n",
    "\n",
    "print (X)\n",
    "print (y)\n",
    "\n",
    "# Se halla el máximo y mínimo en X[:,0] y X[:,1], se le agregan 0.5 y se le restan 0.5 al final.\n",
    "# Esto se hace para centrar el rango de impresión de la imagen\n",
    "\n",
    "x_min, x_max = X[:, 0].min() - .5, X[:, 0].max() + .5\n",
    "y_min, y_max = X[:, 1].min() - .5, X[:, 1].max() + .5\n",
    "\n",
    "plt.scatter(X[:,0], X[:,1])\n",
    "plt.plot([x_min, x_max], [y_min, y_max], c='g', lw=2)"
   ]
  },
  {
   "cell_type": "markdown",
   "metadata": {},
   "source": [
    "##### PASO 1\n",
    "Se inicializan los pesos de las características y el valor de bias aleatoriamente a través una semilla con la instrucción np.random.seed(1). Estos valores de guardan en el vector de pesos W. En donde, el vector de w en su última posición corresponde el valor de bias multiplicado el número de características del vector de entrenamiento.\n",
    "\n"
   ]
  },
  {
   "cell_type": "code",
   "execution_count": 12,
   "metadata": {},
   "outputs": [
    {
     "name": "stdout",
     "output_type": "stream",
     "text": [
      "\n",
      "W0:\n",
      "[-0.582978   -0.27967551 -1.99977125]\n"
     ]
    }
   ],
   "source": [
    "# seed random numbers to make calculation\n",
    "# deterministic (just a good practice)\n",
    "# Se establece una semilla para obtener los mismos resultados de números aleatorios \n",
    "# en diferentes equipos. [rrr2]\n",
    "np.random.seed(1)\n",
    "\n",
    "#==========================\n",
    "#\n",
    "# initialize weights randomly with mean 0\n",
    "# syn0: First layer of weights, Synapse 0, connecting l0 to l1.\n",
    "\n",
    "# Se crea el vector de peso de tamaño igual al de las columnas de manera random\n",
    "W = np.random.random((X.shape[1])) - 1\n",
    "\n",
    "# \n",
    "W[2]=W[2]*2\n",
    "print (\"\\nW0:\"); print (W)\n"
   ]
  },
  {
   "cell_type": "markdown",
   "metadata": {},
   "source": [
    "##### Paso 2\n",
    "Se evalue el net con la siguiente fórmula:\n",
    "\n",
    "$$\n",
    "\\sum_{i=1}^n (W_iXi+b)\n",
    "$$\n",
    "\n",
    "Por facilidad la operación anterior se realiza a través del producto punto entre el vector caraterísticas X modificado y el vector de peso W en donde su última posición corresponde a valor de bias multiplicado por número de características. En forma general:\n",
    "\n",
    "$$\n",
    "net= (X_1, X_2,\\cdots,X_n,1) \\cdot (W_1, W_2,\\cdots,W_n,nb) \n",
    "$$"
   ]
  },
  {
   "cell_type": "code",
   "execution_count": 15,
   "metadata": {},
   "outputs": [
    {
     "name": "stdout",
     "output_type": "stream",
     "text": [
      "\n",
      "------------------\n",
      "m: 0\n",
      "X[m]\n",
      "[2. 3. 1.]\n",
      "net\n",
      "-4.0047537606336885\n",
      "\n",
      "------------------\n",
      "m: 1\n",
      "X[m]\n",
      "[8. 7. 1.]\n",
      "net\n",
      "-8.621323758649611\n",
      "\n",
      "------------------\n",
      "m: 2\n",
      "X[m]\n",
      "[2.5 2.  1. ]\n",
      "net\n",
      "-4.01656725172456\n",
      "\n",
      "------------------\n",
      "m: 3\n",
      "X[m]\n",
      "[6. 4. 1.]\n",
      "net\n",
      "-6.616341248381234\n"
     ]
    }
   ],
   "source": [
    "\n",
    "\n",
    "#=========================\n",
    "#PASO 2\n",
    "# Se imprime cada X[m], y cada net obtenido a partir del peso W.\n",
    "# En este caso no se realiza la actualización de pesos ni bias\n",
    "# sino que se realiza por época (no significa que no exista error\n",
    "# durante la evaluación).\n",
    "\n",
    "for m in range(X.shape[0]):\n",
    "    print (\"\\n------------------\\nm: %d\" %m)\n",
    "    net = np.dot(X[m],W)\n",
    "    print (\"X[m]\"); print (X[m])\n",
    "    print (\"net\"); print (net)\n"
   ]
  },
  {
   "cell_type": "markdown",
   "metadata": {},
   "source": [
    "##### Paso 3\n",
    "\n",
    "Se calcula el valor de salida según la siguiente función de activación:\n",
    "\n",
    "$$\n",
    "y=1\\; si \\; net \\; > 0\n",
    "$$\n",
    "$$\n",
    "y=0\\; si \\; net \\; \\leq 0\n",
    "$$\n",
    "\n",
    "A continuación, se implementa y se evalua la función de activación para el último vector de características."
   ]
  },
  {
   "cell_type": "code",
   "execution_count": 17,
   "metadata": {},
   "outputs": [
    {
     "name": "stdout",
     "output_type": "stream",
     "text": [
      "y_cal\n",
      "0\n"
     ]
    }
   ],
   "source": [
    "\n",
    "#=========================\n",
    "#PASO 3\n",
    "#Se establecen las condiciones de salida de la red, en donde dependiendo del valor de net puede ser 0 o 1.\n",
    "\n",
    "if net > 0: y_cal = 1\n",
    "else: y_cal = 0\n",
    "print (\"y_cal\"); print (y_cal)\n"
   ]
  },
  {
   "cell_type": "markdown",
   "metadata": {},
   "source": [
    "##### Paso 4\n",
    "\n",
    "Se hace una actualización del peso y del bias así:\n",
    "\n",
    "![figs/actualizacionPesoBias.png](figs/actualizacionPesoBias.png)\n",
    "\n",
    "\n"
   ]
  },
  {
   "cell_type": "code",
   "execution_count": 19,
   "metadata": {},
   "outputs": [
    {
     "name": "stdout",
     "output_type": "stream",
     "text": [
      "error\n",
      "[0.]\n",
      "Delta\n",
      "[0. 0. 0.]\n",
      "W\n",
      "[-0.582978   -0.27967551 -1.99977125]\n"
     ]
    }
   ],
   "source": [
    "\n",
    "#=========================\n",
    "#PASO 4\n",
    "#Se realizan las comparaciones con el target esperado y se calcula el error.\n",
    "\n",
    "error = y[m] - y_cal\n",
    "print (\"error\");     print (error)\n",
    "\n",
    "Delta = error*X[m]\n",
    "print (\"Delta\");     print (Delta)\n",
    "\n",
    "# update weights\n",
    "# Se realiza la actualización de pesos para la siguiente iteración\n",
    "n=len(W)-1\n",
    "W[n]=W[n]/n\n",
    "W = W + Delta.T\n",
    "W[n]=W[n]*n\n",
    "print (\"W\"); print (W)\n",
    "\n",
    "#===========================================\n",
    "#===========================================\n",
    "\n",
    "y_min = (-W[0]*x_min - W[2])/W[1]\n",
    "y_max = (-W[0]*x_max - W[2])/W[1]\n",
    "\n",
    "# plt.scatter(X[:,0], X[:,1])\n",
    "# plt.plot([x_min, x_max], [y_min, y_max], c='g', lw=2)"
   ]
  },
  {
   "cell_type": "markdown",
   "metadata": {},
   "source": [
    "Nótese que para actualizar el vector de pesos y de bias se debe dividir por el número de caractísticas de la última posición y despúes de actualizar volver a multiplicar por el número de características."
   ]
  },
  {
   "cell_type": "markdown",
   "metadata": {},
   "source": [
    "##### Paso 5 y 6\n",
    "Se deben repetir los pasos 2-4 hasta que los pesos no cambien o se llegue hasta el máximo número de iteraciones en todas las muestra de entrenamiento. En la siguiente función se realizan los pasos descritos anteriormente."
   ]
  },
  {
   "cell_type": "code",
   "execution_count": 49,
   "metadata": {},
   "outputs": [
    {
     "name": "stdout",
     "output_type": "stream",
     "text": [
      "iteración: 1\n",
      "característica: 1\n",
      "W: [0.1 0.1 0.2]\n",
      "\n",
      "iteración: 1\n",
      "característica: 2\n",
      "W: [0.1 0.1 0.2]\n",
      "\n",
      "iteración: 1\n",
      "característica: 3\n",
      "W: [-7.9 -6.9 -1.8]\n",
      "\n",
      "iteración: 1\n",
      "característica: 4\n",
      "W: [-7.9 -6.9 -1.8]\n",
      "\n",
      "W: [-7.9 -6.9 -0.9]\n"
     ]
    }
   ],
   "source": [
    "# MUCHAS ÉPOCAS\n",
    "def entrenamientoPerceptron(X,y,W,interaciones):\n",
    "    n_caracteristicas=X.shape[1]-1\n",
    "    W[n_caracteristicas]=W[n_caracteristicas]*n_caracteristicas\n",
    "\n",
    "    \n",
    "    for j in range(interaciones):\n",
    "        \n",
    "        Nerrors = 0\n",
    "        #=========================\n",
    "        #PASO 2\n",
    "        for m in range(X.shape[0]):\n",
    "            net = np.dot(X[m],W)\n",
    "            \n",
    "        #=========================\n",
    "        #PASO 3\n",
    "            if net > 0: y_cal = 1\n",
    "            else: y_cal = 0\n",
    "        #=========================\n",
    "        #PASO 4\n",
    "            error = y[m] - y_cal\n",
    "            Delta = error*X[m]\n",
    "            # update weights\n",
    "            W[n_caracteristicas]=W[n_caracteristicas]/n_caracteristicas\n",
    "            W = W + Delta\n",
    "            W[n_caracteristicas]=W[n_caracteristicas]*n_caracteristicas\n",
    "\n",
    "            print(f'iteración: {j+1}\\ncaracterística: {m+1}')\n",
    "            print(f'W: {W}\\n')\n",
    "\n",
    "            if error != 0: \n",
    "                Nerrors = Nerrors+1\n",
    "        \n",
    "\n",
    "        if Nerrors == 0: \n",
    "            break\n",
    "        #===========================================\n",
    "        #===========================================\n",
    "\n",
    "    W[n_caracteristicas]=W[n_caracteristicas]/n_caracteristicas\n",
    "    return W\n",
    "\n",
    "interaciones=1\n",
    "X=np.array([\n",
    "    [2.0,3.0,1],\n",
    "    [2.5,2.0,1],\n",
    "    [8.0,7.0,1],\n",
    "    [6.0,4.0,1]\n",
    "])\n",
    "\n",
    "y=np.array([1.0,1.0,0.0,0.0]).T\n",
    "\n",
    "W=np.array([0.1,0.1,0.1])\n",
    "finalW=entrenamientoPerceptron(X,y,W,interaciones)\n",
    "print(f'W: {finalW}')\n",
    "\n",
    "# print (\"\\nW\");     print (W)\n",
    "# print (\"\\nEpocas\")\n",
    "# print (j)\n",
    "# y_min = (-W[0]*x_min - W[2])/W[1]\n",
    "# y_max = (-W[0]*x_max - W[2])/W[1]\n",
    "\n",
    "# plt.scatter(X[:,0], X[:,1])\n",
    "# #plt.scatter(X[:,0], X[:,1], s=40, c=y, cmap=plt.cm.Spectral)\n",
    "# plt.plot([x_min, x_max], [y_min, y_max], c='g', lw=2)"
   ]
  },
  {
   "cell_type": "markdown",
   "metadata": {},
   "source": [
    "# ADALINE\n",
    "\n",
    "* Función de Activación: Identidad o función lineal\n",
    "* Error: $\\varepsilon = \\frac{1}{2}(\\bar{y}-y)^2$, "
   ]
  }
 ],
 "metadata": {
  "interpreter": {
   "hash": "2cc7312ac55238f9be9df14054f131e8e300a9a274a1be1e0477ee0167611bd1"
  },
  "kernelspec": {
   "display_name": "Python 3.9.12 ('base')",
   "language": "python",
   "name": "python3"
  },
  "language_info": {
   "codemirror_mode": {
    "name": "ipython",
    "version": 3
   },
   "file_extension": ".py",
   "mimetype": "text/x-python",
   "name": "python",
   "nbconvert_exporter": "python",
   "pygments_lexer": "ipython3",
   "version": "3.8.10"
  },
  "orig_nbformat": 4
 },
 "nbformat": 4,
 "nbformat_minor": 2
}
