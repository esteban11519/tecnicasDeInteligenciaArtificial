{
 "cells": [
  {
   "cell_type": "markdown",
   "metadata": {},
   "source": [
    "\n",
    "\n",
    "<p style=\"font-size:300%; background-color:pink; color:blue; text-align:center;line-height : 80px; margin : 0; padding : 0;\">\n",
    "Taller 7: Clasificación con RNA</p>\n",
    "<p style=\"font-size:240%; background-color:pink; color:red; text-align:center;line-height : 60px; margin : 0; padding : 0;\">\n",
    "    \n",
    "Técnicas de Inteligencia Artificial - Visión de Máquina </p1>\n",
    "\n",
    "<p style=\"font-size:200%; text-align:center; line-height : 40px;  margin-top : 0; margin-bottom : 0; \"> \n",
    "  <br>Est. Brian Camilo Valencia Peña (bcvalenciap@unal.edu.co)\n",
    "  <br>Est. Esteban Ladino Fajardo (eladinof@unal.edu.co)\n",
    "</p>\n",
    "\n",
    "<p style=\"font-size:180%; text-align:center; line-height : 30px;  margin-top : 0; margin-bottom : 0; \"> <br><br>INGENIERÍA MECATRÓNICA Y ELECTRÓNICA</p>\n",
    "<p style=\"font-size:180%; text-align:center; line-height : 30px; margin-top : 0; \"> Facultad de Ingeniería</p>\n",
    "<p style=\"font-size:160%; text-align:center; line-height : 30px; margin-top : 0; \"> Universidad Nacional de Colombia Sede Bogotá</p>\n",
    "<br>\n",
    "<img src=\"../figs/Escudo_UN.png\",width=100,height=100>\n",
    "\n",
    "<p style=\"font-size:160%; text-align:center; line-height : 30px; margin-top : 0; \"> <br>3 de junio de 2022</p>"
   ]
  },
  {
   "cell_type": "markdown",
   "metadata": {},
   "source": [
    "## Enunciado\n",
    "\n",
    "1. Estudiar el uso de Redes Neuronales en scikit-learn.\n",
    "    * Machine Learning with Neural Networks Using scikit-learn https://www.pluralsight.com/guides/\n",
    "machine-learning-neural-networks-scikit-learn\n",
    "\n",
    "\n",
    "2. Estudiar, evaluar y discutir el desempeño de las Redes Neuronales Artificiales como clasificador, cuando son aplicadas a un conjunto de vectores de características como el del proyecto que está desarrollando para el curso.\n"
   ]
  },
  {
   "cell_type": "markdown",
   "metadata": {},
   "source": [
    "## Desarrollo Punto 1\n",
    "\n",
    "El siguiente código fue proporcionado por Vargas [rrr1] y el objetivo es comentarlo. \n"
   ]
  },
  {
   "cell_type": "markdown",
   "metadata": {},
   "source": [
    "\n",
    "#### Perceptrón\n",
    "\n",
    "* Una Epoca - por set de características\n",
    "\n",
    "* Función de Activación: Escalón unitario\n",
    "* Error: $\\varepsilon = \\bar{y} - y$, "
   ]
  },
  {
   "cell_type": "code",
   "execution_count": 3,
   "metadata": {},
   "outputs": [],
   "source": [
    "# Librerías necesarias\n",
    "import numpy as np\n",
    "import matplotlib.pyplot as plt\n",
    "import matplotlib"
   ]
  },
  {
   "cell_type": "markdown",
   "metadata": {},
   "source": [
    "A continuación, se establecen las características de entrada y se les agrega el bias a la matriz para facilitar los cálculos"
   ]
  },
  {
   "cell_type": "code",
   "execution_count": 4,
   "metadata": {},
   "outputs": [
    {
     "name": "stdout",
     "output_type": "stream",
     "text": [
      "[[2.  3.  1. ]\n",
      " [8.  7.  1. ]\n",
      " [2.5 2.  1. ]\n",
      " [6.  4.  1. ]]\n",
      "[[1.]\n",
      " [0.]\n",
      " [1.]\n",
      " [0.]]\n"
     ]
    },
    {
     "data": {
      "text/plain": [
       "<matplotlib.collections.PathCollection at 0x1fe18548ac0>"
      ]
     },
     "execution_count": 4,
     "metadata": {},
     "output_type": "execute_result"
    },
    {
     "data": {
      "image/png": "[encoded data removed]",
      "text/plain": [
       "<Figure size 720x720 with 1 Axes>"
      ]
     },
     "metadata": {
      "needs_background": "light"
     },
     "output_type": "display_data"
    }
   ],
   "source": [
    "# Display plots inline and change default figure size\n",
    "%matplotlib inline\n",
    "matplotlib.rcParams['figure.figsize'] = (10.0, 10.0)\n",
    "\n",
    "#==============================================\n",
    "#  X: Dataset de entrada en matriz donde cada fila es un ejemplo de entrentamiento\n",
    "#  El último componente de cada fila hace referencia al bias \n",
    "X = np.array([  [2.0,3.0,1],\n",
    "                [8.0,7.0,1],\n",
    "                [2.5,2.0,1],\n",
    "                [6.0,4.0,1] ])\n",
    "\n",
    "#X = np.array([  [2.0,1.0,1],\n",
    "                #[8.5,9.0,1],\n",
    "                #[8.0,2.0,1],\n",
    "                #[1.5,8.5,1] ])\n",
    "\n",
    "#==============================================\n",
    "# output dataset   \n",
    "# y: Dataset de salida Output, matriz donde cada fila es  un ejemplo de enrtenamiento.\n",
    "y = np.array([[1.0,0.0,1.0,0.0]]).T\n",
    "\n",
    "print (X)\n",
    "print (y)\n",
    "\n",
    "# Se halla el máximo y mínimo en X y Y, se le agregan 0.5 y se le restan 0.5 al final.\n",
    "# Esto se hace para que el rango de datos sea [-0.5 y 0.5] al inicializar\n",
    "# Los pesos entre las capas  son inicializadas por valores aleatorios pequeños para que la red no se sature por posibles valores grandes en estos pesos.\n",
    "x_min, x_max = X[:, 0].min() - .5, X[:, 0].max() + .5\n",
    "y_min, y_max = X[:, 1].min() - .5, X[:, 1].max() + .5\n",
    "\n",
    "plt.scatter(X[:,0], X[:,1])\n",
    "#plt.plot([x_min, x_max], [y_min, y_max], c='g', lw=2)"
   ]
  },
  {
   "cell_type": "code",
   "execution_count": 5,
   "metadata": {},
   "outputs": [
    {
     "name": "stdout",
     "output_type": "stream",
     "text": [
      "\n",
      "W0:\n",
      "[-0.16595599  0.44064899 -0.99977125]\n"
     ]
    }
   ],
   "source": [
    "# seed random numbers to make calculation\n",
    "# deterministic (just a good practice)\n",
    "# Se establece una semilla para obtener los mismos resultados de números aleatorios \n",
    "# en diferentes equipos. [rrr2]\n",
    "np.random.seed(1)\n",
    "\n",
    "#==========================\n",
    "# PASO 1\n",
    "\n",
    "# initialize weights randomly with mean 0\n",
    "# syn0: First layer of weights, Synapse 0, connecting l0 to l1.\n",
    "\n",
    "# Se crea el vector de peso de tamaño igual al de las columnas de manera random\n",
    "W = 2*np.random.random((X.shape[1])) - 1\n",
    "print (\"\\nW0:\"); print (W)\n"
   ]
  },
  {
   "cell_type": "code",
   "execution_count": 6,
   "metadata": {},
   "outputs": [
    {
     "name": "stdout",
     "output_type": "stream",
     "text": [
      "\n",
      "------------------\n",
      "m: 0\n",
      "X[m]\n",
      "[2. 3. 1.]\n",
      "net\n",
      "-0.009736270902065636\n",
      "\n",
      "------------------\n",
      "m: 1\n",
      "X[m]\n",
      "[8. 7. 1.]\n",
      "net\n",
      "0.7571237330660874\n",
      "\n",
      "------------------\n",
      "m: 2\n",
      "X[m]\n",
      "[2.5 2.  1. ]\n",
      "net\n",
      "-0.5333632530838077\n",
      "\n",
      "------------------\n",
      "m: 3\n",
      "X[m]\n",
      "[6. 4. 1.]\n",
      "net\n",
      "-0.23291124639715743\n"
     ]
    }
   ],
   "source": [
    "\n",
    "\n",
    "#=========================\n",
    "#PASO 2\n",
    "# Se evalua net como el producto punto de un valor de entrenamiento por su respectivo peso asignado. Se imprime cada X[m], y cada net obtenido a partir del peso W.\n",
    "\n",
    "for m in range(X.shape[0]):\n",
    "    print (\"\\n------------------\\nm: %d\" %m)\n",
    "    net = np.dot(X[m],W)\n",
    "    print (\"X[m]\"); print (X[m])\n",
    "    print (\"net\"); print (net)\n"
   ]
  },
  {
   "cell_type": "code",
   "execution_count": null,
   "metadata": {},
   "outputs": [],
   "source": [
    "\n",
    "#=========================\n",
    "#PASO 3\n",
    "#Se establecen las condiciones de salida de la red, en donde dependiendo del valor de net puede ser 0 o 1.\n",
    "\n",
    "    if net > 0: y_cal = 1\n",
    "    else: y_cal = 0\n",
    "    print (\"y_cal\"); print (y_cal)\n"
   ]
  },
  {
   "cell_type": "code",
   "execution_count": null,
   "metadata": {},
   "outputs": [],
   "source": [
    "\n",
    "#=========================\n",
    "#PASO 4\n",
    "#Se realizan las comparaciones con el target esperado y se calcula el error.\n",
    "\n",
    "    error = y[m] - y_cal\n",
    "    print (\"error\");     print (error)\n",
    "\n",
    "    Delta = error*X[m]\n",
    "    print (\"Delta\");     print (Delta)\n",
    "\n",
    "    # update weights\n",
    "    # Se realiza la actualización de pesos para la siguiente iteración\n",
    "    W = W + Delta.T\n",
    "    print (\"W\");     print (W)\n",
    "\n",
    "#===========================================\n",
    "#===========================================\n",
    "\n",
    "y_min = (-W[0]*x_min - W[2])/W[1]\n",
    "y_max = (-W[0]*x_max - W[2])/W[1]\n",
    "\n",
    "# plt.scatter(X[:,0], X[:,1])\n",
    "# plt.plot([x_min, x_max], [y_min, y_max], c='g', lw=2)"
   ]
  },
  {
   "cell_type": "code",
   "execution_count": 3,
   "metadata": {},
   "outputs": [
    {
     "name": "stdout",
     "output_type": "stream",
     "text": [
      "\n",
      "W\n",
      "[-10.16595599   9.44064899  12.00022875]\n",
      "\n",
      "Epocas\n",
      "11\n"
     ]
    },
    {
     "data": {
      "text/plain": [
       "[<matplotlib.lines.Line2D at 0x1f50e1ec460>]"
      ]
     },
     "execution_count": 3,
     "metadata": {},
     "output_type": "execute_result"
    },
    {
     "data": {
      "image/png": "[encoded data removed]",
      "text/plain": [
       "<Figure size 720x720 with 1 Axes>"
      ]
     },
     "metadata": {
      "needs_background": "light"
     },
     "output_type": "display_data"
    }
   ],
   "source": [
    "# MUCHAS ÉPOCAS\n",
    "\n",
    "for j in range(100):\n",
    "    \n",
    "    Nerrors = 0\n",
    "    #=========================\n",
    "    #PASO 2\n",
    "    for m in range(X.shape[0]):\n",
    "        net = np.dot(X[m],W)\n",
    "    #=========================\n",
    "    #PASO 3\n",
    "        if net > 0: y_cal = 1\n",
    "        else: y_cal = 0\n",
    "    #=========================\n",
    "    #PASO 4\n",
    "        error = y[m] - y_cal\n",
    "        Delta = error*X[m]\n",
    "        # update weights\n",
    "        W = W + Delta.T      \n",
    "        if error != 0: \n",
    "            Nerrors = Nerrors+1\n",
    "    if Nerrors == 0: \n",
    "        break\n",
    "    #===========================================\n",
    "    #===========================================\n",
    "\n",
    "print (\"\\nW\");     print (W)\n",
    "print (\"\\nEpocas\")\n",
    "print (j)\n",
    "y_min = (-W[0]*x_min - W[2])/W[1]\n",
    "y_max = (-W[0]*x_max - W[2])/W[1]\n",
    "\n",
    "plt.scatter(X[:,0], X[:,1])\n",
    "#plt.scatter(X[:,0], X[:,1], s=40, c=y, cmap=plt.cm.Spectral)\n",
    "plt.plot([x_min, x_max], [y_min, y_max], c='g', lw=2)"
   ]
  },
  {
   "cell_type": "markdown",
   "metadata": {},
   "source": [
    "# ADALINE\n",
    "\n",
    "* Función de Activación: Identidad o función lineal\n",
    "* Error: $\\varepsilon = \\frac{1}{2}(\\bar{y}-y)^2$, "
   ]
  }
 ],
 "metadata": {
  "interpreter": {
   "hash": "2cc7312ac55238f9be9df14054f131e8e300a9a274a1be1e0477ee0167611bd1"
  },
  "kernelspec": {
   "display_name": "Python 3.9.12 ('base')",
   "language": "python",
   "name": "python3"
  },
  "language_info": {
   "codemirror_mode": {
    "name": "ipython",
    "version": 3
   },
   "file_extension": ".py",
   "mimetype": "text/x-python",
   "name": "python",
   "nbconvert_exporter": "python",
   "pygments_lexer": "ipython3",
   "version": "3.9.12"
  },
  "orig_nbformat": 4
 },
 "nbformat": 4,
 "nbformat_minor": 2
}
