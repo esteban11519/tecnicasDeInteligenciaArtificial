{
 "cells": [
  {
   "cell_type": "markdown",
   "metadata": {},
   "source": [
    "\n",
    "\n",
    "<p style=\"font-size:300%; background-color:pink; color:blue; text-align:center;line-height : 80px; margin : 0; padding : 0;\">\n",
    "Taller 7: Clasificación con RNA</p>\n",
    "<p style=\"font-size:240%; background-color:pink; color:red; text-align:center;line-height : 60px; margin : 0; padding : 0;\">\n",
    "    \n",
    "Técnicas de Inteligencia Artificial - Visión de Máquina </p1>\n",
    "\n",
    "<p style=\"font-size:200%; text-align:center; line-height : 40px;  margin-top : 0; margin-bottom : 0; \"> \n",
    "  <br>Est. Brian Camilo Valencia Peña (bcvalenciap@unal.edu.co)\n",
    "  <br>Est. Esteban Ladino Fajardo (eladinof@unal.edu.co)\n",
    "</p>\n",
    "\n",
    "<p style=\"font-size:180%; text-align:center; line-height : 30px;  margin-top : 0; margin-bottom : 0; \"> <br><br>INGENIERÍA MECATRÓNICA Y ELECTRÓNICA</p>\n",
    "<p style=\"font-size:180%; text-align:center; line-height : 30px; margin-top : 0; \"> Facultad de Ingeniería</p>\n",
    "<p style=\"font-size:160%; text-align:center; line-height : 30px; margin-top : 0; \"> Universidad Nacional de Colombia Sede Bogotá</p>\n",
    "<br>\n",
    "<img src=\"../figs/Escudo_UN.png\",width=100,height=100>\n",
    "\n",
    "<p style=\"font-size:160%; text-align:center; line-height : 30px; margin-top : 0; \"> <br>3 de junio de 2022</p>"
   ]
  },
  {
   "cell_type": "markdown",
   "metadata": {},
   "source": [
    "## Enunciad\n",
    "\n",
    "* Estudiar el uso de Redes Neuronales en scikit-learn.\n",
    "    * Machine Learning with Neural Networks Using scikit-learn https://www.pluralsight.com/guides/\n",
    "machine-learning-neural-networks-scikit-learn\n",
    "\n",
    "\n",
    "* Estudiar, evaluar y discutir el desempeño de las Redes Neuronales Artificiales como clasificador, cuando son aplicadas a un conjunto de vectores de características como el del proyecto que está desarrollando para el curso.\n"
   ]
  },
  {
   "cell_type": "markdown",
   "metadata": {},
   "source": [
    "## Desarrollo 1 Punto\n",
    "\n",
    "# Perceptrón\n",
    "\n",
    "* Una Epoca - por set de características\n",
    "\n",
    "* Función de Activación: Escalón unitario\n",
    "* Error: $\\varepsilon = \\bar{y} - y$, "
   ]
  },
  {
   "cell_type": "code",
   "execution_count": 1,
   "metadata": {},
   "outputs": [
    {
     "name": "stdout",
     "output_type": "stream",
     "text": [
      "[[2.  3.  1. ]\n",
      " [8.  7.  1. ]\n",
      " [2.5 2.  1. ]\n",
      " [6.  4.  1. ]]\n",
      "[[1.]\n",
      " [0.]\n",
      " [1.]\n",
      " [0.]]\n"
     ]
    },
    {
     "data": {
      "text/plain": [
       "<matplotlib.collections.PathCollection at 0x1f50ddd1250>"
      ]
     },
     "execution_count": 1,
     "metadata": {},
     "output_type": "execute_result"
    },
    {
     "data": {
      "image/png": "[encoded data removed]",
      "text/plain": [
       "<Figure size 720x720 with 1 Axes>"
      ]
     },
     "metadata": {
      "needs_background": "light"
     },
     "output_type": "display_data"
    }
   ],
   "source": [
    "import numpy as np\n",
    "import matplotlib.pyplot as plt\n",
    "import matplotlib\n",
    "\n",
    "# Display plots inline and change default figure size\n",
    "%matplotlib inline\n",
    "matplotlib.rcParams['figure.figsize'] = (10.0, 10.0)\n",
    "\n",
    "#==============================================\n",
    "#  X: Input dataset matrix where each row is a training example\n",
    "X = np.array([  [2.0,3.0,1],\n",
    "                [8.0,7.0,1],\n",
    "                [2.5,2.0,1],\n",
    "                [6.0,4.0,1] ])\n",
    "\n",
    "#X = np.array([  [2.0,1.0,1],\n",
    "                #[8.5,9.0,1],\n",
    "                #[8.0,2.0,1],\n",
    "                #[1.5,8.5,1] ])\n",
    "\n",
    "#==============================================\n",
    "# output dataset   \n",
    "# y: Output dataset matrix where each row is a training example\n",
    "y = np.array([[1.0,0.0,1.0,0.0]]).T\n",
    "\n",
    "print (X)\n",
    "print (y)\n",
    "\n",
    "x_min, x_max = X[:, 0].min() - .5, X[:, 0].max() + .5\n",
    "y_min, y_max = X[:, 1].min() - .5, X[:, 1].max() + .5\n",
    "\n",
    "plt.scatter(X[:,0], X[:,1])\n",
    "#plt.plot([x_min, x_max], [y_min, y_max], c='g', lw=2)"
   ]
  },
  {
   "cell_type": "code",
   "execution_count": 2,
   "metadata": {},
   "outputs": [
    {
     "name": "stdout",
     "output_type": "stream",
     "text": [
      "\n",
      "W0:\n",
      "[-0.16595599  0.44064899 -0.99977125]\n",
      "\n",
      "------------------\n",
      "m: 0\n",
      "X[m]\n",
      "[2. 3. 1.]\n",
      "net\n",
      "-0.009736270902065636\n",
      "y_cal\n",
      "0\n",
      "error\n",
      "[1.]\n",
      "Delta\n",
      "[2. 3. 1.]\n",
      "W\n",
      "[1.83404401e+00 3.44064899e+00 2.28749635e-04]\n",
      "\n",
      "------------------\n",
      "m: 1\n",
      "X[m]\n",
      "[8. 7. 1.]\n",
      "net\n",
      "38.75712373306609\n",
      "y_cal\n",
      "1\n",
      "error\n",
      "[-1.]\n",
      "Delta\n",
      "[-8. -7. -1.]\n",
      "W\n",
      "[-6.16595599 -3.55935101 -0.99977125]\n",
      "\n",
      "------------------\n",
      "m: 2\n",
      "X[m]\n",
      "[2.5 2.  1. ]\n",
      "net\n",
      "-23.53336325308381\n",
      "y_cal\n",
      "0\n",
      "error\n",
      "[1.]\n",
      "Delta\n",
      "[2.5 2.  1. ]\n",
      "W\n",
      "[-3.66595599e+00 -1.55935101e+00  2.28749635e-04]\n",
      "\n",
      "------------------\n",
      "m: 3\n",
      "X[m]\n",
      "[6. 4. 1.]\n",
      "net\n",
      "-28.232911246397155\n",
      "y_cal\n",
      "0\n",
      "error\n",
      "[0.]\n",
      "Delta\n",
      "[0. 0. 0.]\n",
      "W\n",
      "[-3.66595599e+00 -1.55935101e+00  2.28749635e-04]\n"
     ]
    },
    {
     "data": {
      "text/plain": [
       "[<matplotlib.lines.Line2D at 0x1f50de60b50>]"
      ]
     },
     "execution_count": 2,
     "metadata": {},
     "output_type": "execute_result"
    },
    {
     "data": {
      "image/png": "[encoded data removed]",
      "text/plain": [
       "<Figure size 720x720 with 1 Axes>"
      ]
     },
     "metadata": {
      "needs_background": "light"
     },
     "output_type": "display_data"
    }
   ],
   "source": [
    "# seed random numbers to make calculation\n",
    "# deterministic (just a good practice)\n",
    "np.random.seed(1)\n",
    "\n",
    "#==========================\n",
    "# PASO 1\n",
    "\n",
    "# initialize weights randomly with mean 0\n",
    "# syn0: First layer of weights, Synapse 0, connecting l0 to l1.\n",
    "W = 2*np.random.random((X.shape[1])) - 1\n",
    "print (\"\\nW0:\"); print (W)\n",
    "\n",
    "\n",
    "#=========================\n",
    "#PASO 2\n",
    "\n",
    "for m in range(X.shape[0]):\n",
    "    print (\"\\n------------------\\nm: %d\" %m)\n",
    "    net = np.dot(X[m],W)\n",
    "    print (\"X[m]\"); print (X[m])\n",
    "    print (\"net\"); print (net)\n",
    "\n",
    "#=========================\n",
    "#PASO 3\n",
    "\n",
    "    if net > 0: y_cal = 1\n",
    "    else: y_cal = 0\n",
    "    print (\"y_cal\"); print (y_cal)\n",
    "\n",
    "#=========================\n",
    "#PASO 4\n",
    "\n",
    "    error = y[m] - y_cal\n",
    "    print (\"error\");     print (error)\n",
    "\n",
    "    Delta = error*X[m]\n",
    "    print (\"Delta\");     print (Delta)\n",
    "\n",
    "    # update weights\n",
    "    W = W + Delta.T\n",
    "    print (\"W\");     print (W)\n",
    "\n",
    "#===========================================\n",
    "#===========================================\n",
    "\n",
    "y_min = (-W[0]*x_min - W[2])/W[1]\n",
    "y_max = (-W[0]*x_max - W[2])/W[1]\n",
    "\n",
    "plt.scatter(X[:,0], X[:,1])\n",
    "plt.plot([x_min, x_max], [y_min, y_max], c='g', lw=2)"
   ]
  },
  {
   "cell_type": "code",
   "execution_count": 3,
   "metadata": {},
   "outputs": [
    {
     "name": "stdout",
     "output_type": "stream",
     "text": [
      "\n",
      "W\n",
      "[-10.16595599   9.44064899  12.00022875]\n",
      "\n",
      "Epocas\n",
      "11\n"
     ]
    },
    {
     "data": {
      "text/plain": [
       "[<matplotlib.lines.Line2D at 0x1f50e1ec460>]"
      ]
     },
     "execution_count": 3,
     "metadata": {},
     "output_type": "execute_result"
    },
    {
     "data": {
      "image/png": "[encoded data removed]",
      "text/plain": [
       "<Figure size 720x720 with 1 Axes>"
      ]
     },
     "metadata": {
      "needs_background": "light"
     },
     "output_type": "display_data"
    }
   ],
   "source": [
    "# MUCHAS ÉPOCAS\n",
    "\n",
    "for j in range(100):\n",
    "    \n",
    "    Nerrors = 0\n",
    "    #=========================\n",
    "    #PASO 2\n",
    "    for m in range(X.shape[0]):\n",
    "        net = np.dot(X[m],W)\n",
    "    #=========================\n",
    "    #PASO 3\n",
    "        if net > 0: y_cal = 1\n",
    "        else: y_cal = 0\n",
    "    #=========================\n",
    "    #PASO 4\n",
    "        error = y[m] - y_cal\n",
    "        Delta = error*X[m]\n",
    "        # update weights\n",
    "        W = W + Delta.T      \n",
    "        if error != 0: \n",
    "            Nerrors = Nerrors+1\n",
    "    if Nerrors == 0: \n",
    "        break\n",
    "    #===========================================\n",
    "    #===========================================\n",
    "\n",
    "print (\"\\nW\");     print (W)\n",
    "print (\"\\nEpocas\")\n",
    "print (j)\n",
    "y_min = (-W[0]*x_min - W[2])/W[1]\n",
    "y_max = (-W[0]*x_max - W[2])/W[1]\n",
    "\n",
    "plt.scatter(X[:,0], X[:,1])\n",
    "#plt.scatter(X[:,0], X[:,1], s=40, c=y, cmap=plt.cm.Spectral)\n",
    "plt.plot([x_min, x_max], [y_min, y_max], c='g', lw=2)"
   ]
  },
  {
   "cell_type": "markdown",
   "metadata": {},
   "source": [
    "# ADALINE\n",
    "\n",
    "* Función de Activación: Identidad o función lineal\n",
    "* Error: $\\varepsilon = \\frac{1}{2}(\\bar{y}-y)^2$, "
   ]
  }
 ],
 "metadata": {
  "interpreter": {
   "hash": "2cc7312ac55238f9be9df14054f131e8e300a9a274a1be1e0477ee0167611bd1"
  },
  "kernelspec": {
   "display_name": "Python 3.9.12 ('base')",
   "language": "python",
   "name": "python3"
  },
  "language_info": {
   "codemirror_mode": {
    "name": "ipython",
    "version": 3
   },
   "file_extension": ".py",
   "mimetype": "text/x-python",
   "name": "python",
   "nbconvert_exporter": "python",
   "pygments_lexer": "ipython3",
   "version": "3.9.12"
  },
  "orig_nbformat": 4
 },
 "nbformat": 4,
 "nbformat_minor": 2
}
