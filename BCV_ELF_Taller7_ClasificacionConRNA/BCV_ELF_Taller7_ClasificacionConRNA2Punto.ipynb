{
 "cells": [
  {
   "cell_type": "markdown",
   "metadata": {
    "id": "zEYgM3yc6FzA"
   },
   "source": [
    "\n",
    "\n",
    "<p style=\"font-size:300%; background-color:pink; color:blue; text-align:center;line-height : 80px; margin : 0; padding : 0;\">\n",
    "Entrega 2- Segmentación, extracción de características y análisis PCA </p>\n",
    "<p style=\"font-size:240%; background-color:pink; color:red; text-align:center;line-height : 60px; margin : 0; padding : 0;\">\n",
    "    \n",
    "Técnicas de Inteligencia Artificial - Visión de Máquina </p1>\n",
    "\n",
    "<p style=\"font-size:200%; text-align:center; line-height : 40px;  margin-top : 0; margin-bottom : 0; \"> \n",
    "  <br>Est. Brian Camilo Valencia Peña (bcvalenciap@unal.edu.co)\n",
    "  <br>Est. Esteban Ladino Fajardo (eladinof@unal.edu.co)\n",
    "</p>\n",
    "\n",
    "<p style=\"font-size:180%; text-align:center; line-height : 30px;  margin-top : 0; margin-bottom : 0; \"> <br><br>INGENIERÍA MECATRÓNICA Y ELECTRÓNICA</p>\n",
    "<p style=\"font-size:180%; text-align:center; line-height : 30px; margin-top : 0; \"> Facultad de Ingeniería</p>\n",
    "<p style=\"font-size:160%; text-align:center; line-height : 30px; margin-top : 0; \"> Universidad Nacional de Colombia Sede Bogotá</p>\n",
    "<br>\n",
    "<img src=\"../figs/Escudo_UN.png\",width=100,height=100>\n",
    "\n",
    "<p style=\"font-size:160%; text-align:center; line-height : 30px; margin-top : 0; \"> <br>23 de mayo de 2022</p>"
   ]
  },
  {
   "cell_type": "code",
   "execution_count": 57,
   "metadata": {},
   "outputs": [],
   "source": [
    "# Librerias\n",
    "import cv2\n",
    "from matplotlib import pyplot as plt\n",
    "import numpy as np\n",
    "import math\n",
    "from scipy import stats as st\n",
    "from scipy.cluster import vq\n"
   ]
  },
  {
   "cell_type": "markdown",
   "metadata": {},
   "source": [
    "## 2. Estudio, Evaluación y discusión del desempeño de las redes neuronales Artificiales como clasificador\n"
   ]
  },
  {
   "cell_type": "code",
   "execution_count": 359,
   "metadata": {},
   "outputs": [
    {
     "name": "stdout",
     "output_type": "stream",
     "text": [
      "Imágenes procesadas:\n",
      " ['monilia' 'monilia' 'monilia' 'monilia' 'monilia' 'monilia' 'monilia'\n",
      " 'monilia' 'monilia' 'monilia' 'fito' 'fito' 'fito' 'fito' 'fito' 'fito'\n",
      " 'fito' 'fito' 'fito' 'fito' 'saludable' 'saludable' 'saludable'\n",
      " 'saludable' 'saludable' 'saludable' 'saludable' 'saludable' 'saludable'\n",
      " 'saludable']\n",
      "Nombre de características finales\n",
      "['Moda R' 'Moda G' 'Moda B' 'Moda Gris' 'Media R' 'Media G' 'Media B'\n",
      " 'Media Gris' 'mínimo R' 'mínimo G' 'mínimo B' 'mínimo Gris' 'máximo R'\n",
      " 'máximo G' 'máximo B' 'máximo Gris' 'Momento HU 1' 'Momento HU 2'\n",
      " 'Momento HU 3' 'Momento HU 4' 'Momento HU 5' 'Momento HU 6'\n",
      " 'Momento HU 7' 'Redondez']\n"
     ]
    }
   ],
   "source": [
    "# importación de características y datos de procesamiento\n",
    "Xpoblacional=np.load('caracteristicasNormalizadasPCA.npy')\n",
    "imagenesProcesadas=np.load('listaImagenesProcesadas.npy')\n",
    "print(f'Imágenes procesadas:\\n {imagenesProcesadas}')\n",
    "nombreCaracteristicas=np.load('nombreCaracteristicasNormalizadasPCA.npy')\n",
    "print(f'Nombre de características finales\\n{nombreCaracteristicas}')"
   ]
  },
  {
   "cell_type": "code",
   "execution_count": 360,
   "metadata": {},
   "outputs": [
    {
     "name": "stdout",
     "output_type": "stream",
     "text": [
      "Se importaron bien las monilia\n",
      "Se importaron bien las fito\n",
      "Se importaron bien las saludable\n",
      "X.shape: (21, 24)\n",
      "Y.shape: (21,)\n",
      "Xprueba.shape: (9, 24)\n",
      "Yprueba.shape: (9,)\n",
      "Salidas de entrenamiento [1 1 1 1 1 1 1 1 1 1 1 1 1 1 0 0 0 0 0 0 0]\n",
      "Salidas de prueba [1 1 1 1 1 1 0 0 0]\n"
     ]
    }
   ],
   "source": [
    "# Orden de las imágenes seleccionadas\n",
    "\n",
    "n_monilia=10 # Número de monilias procesadas\n",
    "n_monilia_entrenamiento=7 # Número de monilias elegidas para entrenar\n",
    "\n",
    "\n",
    "n_fito=10 # ...\n",
    "n_fito_entrenamiento=7 # ...\n",
    "\n",
    "\n",
    "n_saludable=10\n",
    "n_saludable_entrenamiento=7\n",
    "\n",
    "n_total=n_monilia+n_fito+n_saludable\n",
    "\n",
    "X = np.array([], float)\n",
    "Y = np.array([], int)\n",
    "\n",
    "Xprueba=np.array([], float)\n",
    "Yprueba= np.array([], int)\n",
    "\n",
    "for contador in range(n_total):\n",
    "    # X.shape\n",
    "    #print(X.shape)\n",
    "    if contador>=n_monilia+n_fito and contador<n_monilia+n_fito+n_saludable_entrenamiento :\n",
    "        # Se eligen las saludables\n",
    "        #print(f'saludable {contador}')\n",
    "        X=np.append(X,Xpoblacional[contador])       \n",
    "        Y=np.append(Y,0)\n",
    "\n",
    "    elif contador>=n_monilia and contador<n_monilia+n_fito_entrenamiento :\n",
    "        # Se eligen las fito\n",
    "        #print(f'fito {contador}')\n",
    "        X=np.append(X,Xpoblacional[contador])\n",
    "        Y=np.append(Y,1)\n",
    "\n",
    "\n",
    "    elif contador<n_monilia_entrenamiento:\n",
    "        # Se eligen las monilias\n",
    "        #print(f'monilia {contador}')\n",
    "        X=np.append(X,Xpoblacional[contador])\n",
    "        Y=np.append(Y,1)\n",
    "\n",
    "    else:\n",
    "        Xprueba=np.append(Xprueba,Xpoblacional[contador])\n",
    "        \n",
    "        if contador>=n_monilia+n_fito+n_saludable_entrenamiento:\n",
    "            # saludable\n",
    "            Yprueba=np.append(Yprueba,0)\n",
    "\n",
    "\n",
    "        elif contador>=n_monilia+n_fito_entrenamiento:\n",
    "            # Fito\n",
    "            Yprueba=np.append(Yprueba,1)\n",
    "\n",
    "        elif contador>=n_monilia_entrenamiento:\n",
    "            # monilia\n",
    "            Yprueba=np.append(Yprueba,1)\n",
    "\n",
    "\n",
    "# Redimencionamiento\n",
    "X.shape=(n_monilia_entrenamiento+n_fito_entrenamiento+n_saludable_entrenamiento,Xpoblacional.shape[1])\n",
    "Xprueba.shape=(n_total-(n_monilia_entrenamiento+n_fito_entrenamiento+n_saludable_entrenamiento),Xpoblacional.shape[1])\n",
    "\n",
    "# Comprobación \n",
    "# Se comparan las primeras y últimas características de las selecciondadas y las totales\n",
    "if(np.all(X[0]==Xpoblacional[0]) and np.all(X[n_monilia_entrenamiento-1]==Xpoblacional[n_monilia_entrenamiento-1])):\n",
    "    print(f'Se importaron bien las {imagenesProcesadas[0]}')\n",
    "\n",
    "if(np.all(X[n_monilia_entrenamiento]==Xpoblacional[n_monilia]) and np.all(X[n_monilia_entrenamiento+n_fito_entrenamiento-1]==Xpoblacional[n_monilia+n_fito_entrenamiento-1])):\n",
    "    print(f'Se importaron bien las {imagenesProcesadas[n_monilia]}')\n",
    "\n",
    "if(np.all(X[n_monilia_entrenamiento+n_fito_entrenamiento]==Xpoblacional[n_monilia+n_fito]) and np.all(X[n_monilia_entrenamiento+n_fito_entrenamiento+n_saludable_entrenamiento-1]==Xpoblacional[n_monilia+n_fito+n_saludable_entrenamiento-1])):\n",
    "    print(f'Se importaron bien las {imagenesProcesadas[n_monilia+n_fito]}')\n",
    "\n",
    "print(f'X.shape: {X.shape}')\n",
    "print(f'Y.shape: {Y.shape}')\n",
    "\n",
    "print(f'Xprueba.shape: {Xprueba.shape}')\n",
    "print(f'Yprueba.shape: {Yprueba.shape}')\n",
    "print(f'Salidas de entrenamiento {Y}')\n",
    "print(f'Salidas de prueba {Yprueba}')\n"
   ]
  },
  {
   "cell_type": "markdown",
   "metadata": {},
   "source": [
    "En esta ocasión se va a clasificar si el cacao está o no enfermo. Si está enfermo la salida es 1 y si está sano la salida es 0."
   ]
  },
  {
   "cell_type": "markdown",
   "metadata": {},
   "source": [
    "### Entrenamiento con el perceptrón\n",
    "\n",
    "Las siguientes líneas de código permiten encontrar el peso y bias."
   ]
  },
  {
   "cell_type": "code",
   "execution_count": 362,
   "metadata": {},
   "outputs": [
    {
     "name": "stdout",
     "output_type": "stream",
     "text": [
      "W: [-59.44964466  16.9948343   33.61972222  57.07096002 -53.37506301\n",
      "  -1.01711325  -7.97601905 -16.77034389  -0.59931096  -0.4572617\n",
      "  -0.57688392  -0.31085893  -0.92103795   1.73694097   2.51758367\n",
      "  14.06654594  44.60064371  39.33409043 -44.6914274  -43.08619893\n",
      "  -2.61710419 -27.81742083   1.2216507  -35.18708888]\n",
      "b: 0.876389152296038\n",
      "Épocas: 460\n"
     ]
    }
   ],
   "source": [
    "def entrenamientoPerceptron(X,y,interaciones):\n",
    "    \n",
    "    '''  \n",
    "    X: Vector de características n_imagenes X m_características\n",
    "    y: Vector de resultados 1Xn_imagenes\n",
    "    interaciones: Número de iteraciones\n",
    "    '''\n",
    "\n",
    "    # Se le inserta al vector X una columna de unos al final\n",
    "    X=np.insert(X, X.shape[1], 1,axis=1)\n",
    "\n",
    "\n",
    "    # Se inicializa el vector de pesos y el bias\n",
    "    np.random.seed(1)\n",
    "    W = np.random.random((X.shape[1])) - 1\n",
    "    \n",
    "    n_caracteristicas=X.shape[1]-1\n",
    "    W[n_caracteristicas]=W[n_caracteristicas]*n_caracteristicas\n",
    "    y=y.T\n",
    "\n",
    "    interacionesFinales=0\n",
    "    \n",
    "    for j in range(interaciones):\n",
    "        \n",
    "        Nerrors = 0\n",
    "        #=========================\n",
    "        #PASO 2\n",
    "        for m in range(X.shape[0]):\n",
    "            net = np.dot(X[m],W)\n",
    "            \n",
    "        #=========================\n",
    "        #PASO 3\n",
    "            if net > 0: y_cal = 1\n",
    "            else: y_cal = 0\n",
    "        #=========================\n",
    "        #PASO 4\n",
    "            error = y[m] - y_cal\n",
    "            Delta = error*X[m]\n",
    "            # update weights\n",
    "            W[n_caracteristicas]=W[n_caracteristicas]/n_caracteristicas\n",
    "            W = W + Delta\n",
    "            W[n_caracteristicas]=W[n_caracteristicas]*n_caracteristicas\n",
    "\n",
    "            # print(f'Época: {j+1}\\ncaracterística: {m+1}')\n",
    "            # print(f'W: {W}\\n')\n",
    "\n",
    "            if error != 0: \n",
    "                Nerrors = Nerrors+1\n",
    "        \n",
    "        interacionesFinales=j+1\n",
    "\n",
    "        if Nerrors == 0: \n",
    "            break\n",
    "        #===========================================\n",
    "        #===========================================\n",
    "\n",
    "    W[n_caracteristicas]=W[n_caracteristicas]/n_caracteristicas\n",
    "    return [W,interacionesFinales]\n",
    "\n",
    "iteraciones=500\n",
    "finalW,epocas=entrenamientoPerceptron(X,Y,iteraciones)\n",
    "\n",
    "print(f'W: {finalW[:X.shape[1]]}')\n",
    "print(f'b: {finalW[X.shape[1]]}')\n",
    "print(f'Épocas: {epocas}')"
   ]
  },
  {
   "cell_type": "markdown",
   "metadata": {},
   "source": [
    "Mediante un perceptrón se demoró 460 épocas en entrenarse. Lo importante fue que se logró tener un número de convergencia. Ahora, se pasa a analizar los resultados con las características de prueba."
   ]
  },
  {
   "cell_type": "code",
   "execution_count": 363,
   "metadata": {},
   "outputs": [
    {
     "name": "stdout",
     "output_type": "stream",
     "text": [
      "Yevaluacion final: [0 1 1 1 1 1 1 0 0]\n"
     ]
    }
   ],
   "source": [
    "# resultados\n",
    "Yevaluacion=np.array([], int)\n",
    "\n",
    "# Se le inserta al vector Xprueba una columna de unos al final\n",
    "\n",
    "Xevaluacion=np.insert(Xprueba, Xprueba.shape[1], 1,axis=1)\n",
    "n_caracteristicas=Xevaluacion.shape[1]-1\n",
    "\n",
    "# El vector de  pesos y el bias fue el que se obtuvo en el entrenamiento\n",
    "Wevaluacion=finalW\n",
    "\n",
    "\n",
    "Wevaluacion[n_caracteristicas]=Wevaluacion[n_caracteristicas]*n_caracteristicas\n",
    "\n",
    "\n",
    "for m in range(Xevaluacion.shape[0]):\n",
    "    net = np.dot(Xevaluacion[m],Wevaluacion)\n",
    "    \n",
    "    if net > 0: Yevaluacion=np.append(Yevaluacion,1) \n",
    "    else: Yevaluacion=np.append(Yevaluacion,0)\n",
    "\n",
    "Wevaluacion[n_caracteristicas]=Wevaluacion[n_caracteristicas]/n_caracteristicas\n",
    "\n",
    "print(f'Yevaluacion final: {Yevaluacion}')"
   ]
  },
  {
   "cell_type": "code",
   "execution_count": 366,
   "metadata": {},
   "outputs": [
    {
     "data": {
      "image/png": "[encoded data removed]",
      "text/plain": [
       "<Figure size 1200x800 with 1 Axes>"
      ]
     },
     "metadata": {
      "needs_background": "light"
     },
     "output_type": "display_data"
    }
   ],
   "source": [
    "# Matriz ce confusión [rrr4],[rrr5]\n",
    "\n",
    "VA=0 # Veradadera aceptación\n",
    "FN=0 # Falsa negación\n",
    "FA=0 # Falsa aceptación\n",
    "VR=0 # Verdadero rechazo\n",
    "\n",
    "for i in range(len(Yprueba)):\n",
    "\n",
    "    if Yprueba[i]==1 and Yevaluacion[i]==1:\n",
    "        VA+=1\n",
    "    \n",
    "    elif Yprueba[i]==1 and Yevaluacion[i]==0:\n",
    "        FN+=1\n",
    "    \n",
    "    elif Yprueba[i]==0 and Yevaluacion[i]==1:\n",
    "        FA+=1\n",
    "    \n",
    "    else:\n",
    "        VR+=1\n",
    "        \n",
    "FR=FN # Falso rechazo    \n",
    "\n",
    "\n",
    "\n",
    "fig = plt.figure(dpi=200)\n",
    "ax = fig.add_subplot(1,1,1)\n",
    "table_data=[\n",
    "    ['', 'Enfermo','Sano'],\n",
    "    ['Enfermo', VA,FN],\n",
    "    ['Sano', FA,VR]]\n",
    "table = ax.table(cellText=table_data, loc='center')\n",
    "table.set_fontsize(12)\n",
    "ax.axis('off')\n",
    "ax.set_title('Matriz de confusión')\n",
    "plt.show()"
   ]
  },
  {
   "cell_type": "markdown",
   "metadata": {},
   "source": [
    "#### Valores estadísticos\n",
    "\n",
    "A continuación se presentan los valores estadísticos"
   ]
  },
  {
   "cell_type": "code",
   "execution_count": 367,
   "metadata": {},
   "outputs": [
    {
     "name": "stdout",
     "output_type": "stream",
     "text": [
      "Error medio: 0.2222222222222222\n",
      "Precisión: 0.8333333333333334\n",
      "Sensibilidad: 83.33333333333334 %\n",
      "Especificidad: 66.66666666666666 %\n",
      "Proporción de falsa aceptación: 33.333333333333336 %\n",
      "Exactitud: 77.77777777777779 %\n"
     ]
    }
   ],
   "source": [
    "EM=(FA+FR)/len(Xprueba)\n",
    "print(f'Error medio: {EM}')\n",
    "\n",
    "Precision=VA/(VA+FA)\n",
    "print(f'Precisión: {Precision}')\n",
    "\n",
    "sensibilidad=VA/(VA+FR)\n",
    "print(f'Sensibilidad: {sensibilidad*100} %')\n",
    "\n",
    "especificidad=VR/(VR+FA)\n",
    "print(f'Especificidad: {especificidad*100} %')\n",
    "\n",
    "print(f'Proporción de falsa aceptación: {(1-especificidad)*100} %')\n",
    "\n",
    "Exactitud=(VA+VR)/len(Xprueba)\n",
    "print(f'Exactitud: {Exactitud*100} %')\n"
   ]
  },
  {
   "cell_type": "markdown",
   "metadata": {},
   "source": [
    "La exactitud fue cercana al 80% y en general es un buen resultado para obtenerse con un perceptrón."
   ]
  }
 ],
 "metadata": {
  "colab": {
   "collapsed_sections": [],
   "name": "Taller5.ipynb",
   "provenance": []
  },
  "interpreter": {
   "hash": "d851ff401eaa08c27ee06394010250d255f917a8f26158499c603bd629f1da34"
  },
  "kernelspec": {
   "display_name": "Python 3 (ipykernel)",
   "language": "python",
   "name": "python3"
  },
  "language_info": {
   "codemirror_mode": {
    "name": "ipython",
    "version": 3
   },
   "file_extension": ".py",
   "mimetype": "text/x-python",
   "name": "python",
   "nbconvert_exporter": "python",
   "pygments_lexer": "ipython3",
   "version": "3.8.10"
  }
 },
 "nbformat": 4,
 "nbformat_minor": 4
}
