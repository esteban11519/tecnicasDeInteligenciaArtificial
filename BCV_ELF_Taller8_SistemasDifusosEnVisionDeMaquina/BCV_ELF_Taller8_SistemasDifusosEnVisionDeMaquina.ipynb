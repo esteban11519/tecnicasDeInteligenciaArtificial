{
 "cells": [
  {
   "cell_type": "markdown",
   "id": "93354ab9-4efd-4f00-a2ae-c7870816b9c6",
   "metadata": {},
   "source": [
    "<p style=\"font-size:300%; background-color:pink; color:blue; text-align:center;line-height : 80px; margin : 0; padding : 0;\">\n",
    "Taller 8: Sistemas difusos en visión de máquina</p>\n",
    "<p style=\"font-size:240%; background-color:pink; color:red; text-align:center;line-height : 60px; margin : 0; padding : 0;\">\n",
    "    \n",
    "Técnicas de Inteligencia Artificial - Visión de Máquina </p1>\n",
    "\n",
    "<p style=\"font-size:200%; text-align:center; line-height : 40px;  margin-top : 0; margin-bottom : 0; \"> \n",
    "  <br>Est. Brian Camilo Valencia Peña (bcvalenciap@unal.edu.co)\n",
    "  <br>Est. Esteban Ladino Fajardo (eladinof@unal.edu.co)\n",
    "</p>\n",
    "\n",
    "<p style=\"font-size:180%; text-align:center; line-height : 30px;  margin-top : 0; margin-bottom : 0; \"> <br><br>INGENIERÍA ELECTRÓNICA</p>\n",
    "<p style=\"font-size:180%; text-align:center; line-height : 30px; margin-top : 0; \"> Facultad de Ingeniería</p>\n",
    "<p style=\"font-size:160%; text-align:center; line-height : 30px; margin-top : 0; \"> Universidad Nacional de Colombia Sede Bogotá</p>\n",
    "<br>\n",
    "<img src=\"figs/Escudo_UN.png\",width=100,height=100>\n",
    "\n",
    "<p style=\"font-size:160%; text-align:center; line-height : 30px; margin-top : 0; \"> <br>20 de Junio de 2022</p>"
   ]
  },
  {
   "cell_type": "markdown",
   "id": "02acb708",
   "metadata": {},
   "source": [
    "## Enunciado\n",
    "\n",
    "1. Estudiar las funciones en API Reference, de la biblioteca\n",
    "Scikit-Fuzzy. http://pythonhosted.org/scikit-fuzzy/api/api.html\n",
    "\n",
    "\n",
    "2.  Estudiar el ejemplo: Fuzzy Control Systems: The Tipping Problem, en la misma biblioteca.\n",
    "\n",
    "\n",
    "\n"
   ]
  },
  {
   "cell_type": "markdown",
   "id": "e702f633",
   "metadata": {},
   "source": [
    "Source code for skfuzzy.filters.fire\n",
    "fire2d\n",
    "2-D filtering using Fuzzy Inference Ruled by Else-action (FIRE)\n",
    "\n",
    "FIRE filtering is nonlinear, and is specifically designed to remove impulse (salt and pepper) noise.\n",
    "\n",
    "http://pythonhosted.org/scikit-fuzzy/api/skfuzzy.filters.html\n",
    "\n",
    "Fabrizio Russo, Fuzzy Filtering of Noisy Sensor Data, IEEE Instrumentation and Measurement Technology Conference, Brussels, Belgium, June 4 - 6, 1996, pp 1281 - 1285.\n",
    "\n",
    "Función\n",
    "* http://pythonhosted.org/scikit-fuzzy/_modules/skfuzzy/filters/fire.html\n"
   ]
  },
  {
   "cell_type": "code",
   "execution_count": 1,
   "id": "868c4247",
   "metadata": {},
   "outputs": [],
   "source": [
    "##Parametros\n",
    "#  I : vector 2d  * imagen de entrada.\n",
    "#  l2 : float limite maximo de rango de filtrado\n",
    "#  fuzzyresolution : float, default = 1\n",
    "##Returns:\n",
    "# J : vector2d  * imagen filtrada\n",
    "# ##NOTA\n",
    "# El filtrado ocurre cuando  l1<|x|<l2 ; fuera de este rango no se aplica.\n",
    "\n",
    "from __future__ import division, print_function\n",
    "import numpy as np\n",
    "import matplotlib.pyplot as plt\n",
    "import skfuzzy as fuzz\n",
    "\n",
    "import cv2\n",
    "%matplotlib inline\n",
    "\n",
    "import os\n",
    "\n",
    "def noisy(noise_typ,image):\n",
    "    if noise_typ == \"gauss\":\n",
    "        row,col,ch= image.shape\n",
    "        mean = 0\n",
    "        var = 0.1\n",
    "        sigma = var**0.5\n",
    "        gauss = np.random.normal(mean,sigma,(row,col,ch))\n",
    "        gauss = gauss.reshape(row,col,ch)\n",
    "        noisy = image + gauss\n",
    "        return noisy\n",
    "    elif noise_typ == \"s&p\":\n",
    "        row,col,ch = image.shape\n",
    "        s_vs_p = 0.5\n",
    "        amount = 0.004\n",
    "        out = np.copy(image)\n",
    "        # Salt mode\n",
    "        num_salt = np.ceil(amount * image.size * s_vs_p)\n",
    "        coords = [np.random.randint(0, i - 1, int(num_salt))\n",
    "              for i in image.shape]\n",
    "        out[coords] = 1\n",
    "\n",
    "        # Pepper mode\n",
    "        num_pepper = np.ceil(amount* image.size * (1. - s_vs_p))\n",
    "        coords = [np.random.randint(0, i - 1, int(num_pepper))\n",
    "              for i in image.shape]\n",
    "        out[coords] = 0\n",
    "        return out\n",
    "    elif noise_typ == \"poisson\":\n",
    "        vals = len(np.unique(image))\n",
    "        vals = 2 ** np.ceil(np.log2(vals))\n",
    "        noisy = np.random.poisson(image * vals) / float(vals)\n",
    "        return noisy\n",
    "    elif noise_typ ==\"speckle\":\n",
    "        row,col,ch = image.shape\n",
    "        gauss = np.random.randn(row,col,ch)\n",
    "        gauss = gauss.reshape(row,col,ch)        \n",
    "        noisy = image + image * gauss\n",
    "        return noisy\n",
    "\n"
   ]
  },
  {
   "cell_type": "markdown",
   "id": "4937b321",
   "metadata": {},
   "source": [
    "Funcion noisy\n",
    "La función agrega ruido gaussiano, salpimienta, poisson y moteado en una imagen. Esto se hace con el obj de aplicarle posteriormente los filtros de logica difusa a la imagen y limpiarla."
   ]
  },
  {
   "cell_type": "code",
   "execution_count": 2,
   "id": "4729cb9d",
   "metadata": {},
   "outputs": [
    {
     "ename": "error",
     "evalue": "OpenCV(4.5.5) D:\\a\\opencv-python\\opencv-python\\opencv\\modules\\imgproc\\src\\color.cpp:182: error: (-215:Assertion failed) !_src.empty() in function 'cv::cvtColor'\n",
     "output_type": "error",
     "traceback": [
      "\u001b[1;31m---------------------------------------------------------------------------\u001b[0m",
      "\u001b[1;31merror\u001b[0m                                     Traceback (most recent call last)",
      "\u001b[1;32mc:\\Users\\ervys\\OneDrive\\Desktop\\TIAGIT\\tecnicasDeInteligenciaArtificial\\BCV_ELF_Taller8_SistemasDifusosEnVisionDeMaquina\\BCV_ELF_Taller8_SistemasDifusosEnVisionDeMaquina.ipynb Cell 6'\u001b[0m in \u001b[0;36m<cell line: 24>\u001b[1;34m()\u001b[0m\n\u001b[0;32m     <a href='vscode-notebook-cell:/c%3A/Users/ervys/OneDrive/Desktop/TIAGIT/tecnicasDeInteligenciaArtificial/BCV_ELF_Taller8_SistemasDifusosEnVisionDeMaquina/BCV_ELF_Taller8_SistemasDifusosEnVisionDeMaquina.ipynb#ch0000005?line=20'>21</a>\u001b[0m     \u001b[39mreturn\u001b[39;00m output\n\u001b[0;32m     <a href='vscode-notebook-cell:/c%3A/Users/ervys/OneDrive/Desktop/TIAGIT/tecnicasDeInteligenciaArtificial/BCV_ELF_Taller8_SistemasDifusosEnVisionDeMaquina/BCV_ELF_Taller8_SistemasDifusosEnVisionDeMaquina.ipynb#ch0000005?line=22'>23</a>\u001b[0m img \u001b[39m=\u001b[39m cv2\u001b[39m.\u001b[39mimread(\u001b[39m'\u001b[39m\u001b[39mfig/Notebook/Emmanuel.jpg\u001b[39m\u001b[39m'\u001b[39m,\u001b[39m1\u001b[39m)\n\u001b[1;32m---> <a href='vscode-notebook-cell:/c%3A/Users/ervys/OneDrive/Desktop/TIAGIT/tecnicasDeInteligenciaArtificial/BCV_ELF_Taller8_SistemasDifusosEnVisionDeMaquina/BCV_ELF_Taller8_SistemasDifusosEnVisionDeMaquina.ipynb#ch0000005?line=23'>24</a>\u001b[0m img1 \u001b[39m=\u001b[39m cv2\u001b[39m.\u001b[39;49mcvtColor(img, cv2\u001b[39m.\u001b[39;49mCOLOR_BGR2GRAY)\n\u001b[0;32m     <a href='vscode-notebook-cell:/c%3A/Users/ervys/OneDrive/Desktop/TIAGIT/tecnicasDeInteligenciaArtificial/BCV_ELF_Taller8_SistemasDifusosEnVisionDeMaquina/BCV_ELF_Taller8_SistemasDifusosEnVisionDeMaquina.ipynb#ch0000005?line=24'>25</a>\u001b[0m \u001b[39m#\u001b[39;00m\n\u001b[0;32m     <a href='vscode-notebook-cell:/c%3A/Users/ervys/OneDrive/Desktop/TIAGIT/tecnicasDeInteligenciaArtificial/BCV_ELF_Taller8_SistemasDifusosEnVisionDeMaquina/BCV_ELF_Taller8_SistemasDifusosEnVisionDeMaquina.ipynb#ch0000005?line=25'>26</a>\u001b[0m noise_img \u001b[39m=\u001b[39m sp_noise(img1,\u001b[39m0.2\u001b[39m)\n",
      "\u001b[1;31merror\u001b[0m: OpenCV(4.5.5) D:\\a\\opencv-python\\opencv-python\\opencv\\modules\\imgproc\\src\\color.cpp:182: error: (-215:Assertion failed) !_src.empty() in function 'cv::cvtColor'\n"
     ]
    }
   ],
   "source": [
    "def sp_noise(image, prob):\n",
    "    '''\n",
    "    Add salt and pepper noise to image\n",
    "    prob: Probability of the noise\n",
    "    '''\n",
    "    output = image.copy()\n",
    "    if len(image.shape) == 2:\n",
    "        black = 0\n",
    "        white = 255            \n",
    "    else:\n",
    "        colorspace = image.shape[2]\n",
    "        if colorspace == 3:  # RGB\n",
    "            black = np.array([0, 0, 0], dtype='uint8')\n",
    "            white = np.array([255, 255, 255], dtype='uint8')\n",
    "        else:  # RGBA\n",
    "            black = np.array([0, 0, 0, 255], dtype='uint8')\n",
    "            white = np.array([255, 255, 255, 255], dtype='uint8')\n",
    "    probs = np.random.random(output.shape[:2])\n",
    "    output[probs < (prob / 2)] = black\n",
    "    output[probs > 1 - (prob / 2)] = white\n",
    "    return output\n",
    "\n",
    "img = cv2.imread('figs/imag.jpg',1)\n",
    "img1 = cv2.cvtColor(img, cv2.COLOR_BGR2GRAY)\n",
    "#\n",
    "noise_img = sp_noise(img1,0.2)\n",
    "#noise_img = noisy(\"s&p\",img)\n",
    "#img2 = cv2.cvtColor(noise_img, cv2.COLOR_BGR2GRAY)\n",
    "\n",
    "plt.figure(1,figsize=(15,15))\n",
    "plt.subplot(221), plt.imshow(img1, cmap='gray'), plt.title('Imagen'), plt.axis(\"off\")\n",
    "plt.subplot(222), plt.imshow(noise_img, cmap='gray'), plt.title('Imagen con Ruido'), plt.axis(\"off\")\n",
    "plt.show()\n",
    "\n"
   ]
  },
  {
   "cell_type": "code",
   "execution_count": null,
   "id": "9579e484",
   "metadata": {},
   "outputs": [],
   "source": [
    "from __future__ import division, print_function\n",
    "import numpy as np\n",
    "import matplotlib.pyplot as plt\n",
    "import skfuzzy as fuzz\n",
    "\n",
    "%matplotlib inline\n",
    "\n",
    "\n",
    "\n",
    "colors = ['b', 'orange', 'g', 'r', 'c', 'm', 'y', 'k', 'Brown', 'ForestGreen']\n",
    "\n",
    "# Define los centros de los cluster \n",
    "centers = [[4, 2],\n",
    "           [1, 7],\n",
    "           [5, 6]]\n",
    "\n",
    "# Define los cluster sigmas en x e y, respectivamente\n",
    "sigmas = [[0.8, 0.3],\n",
    "          [0.3, 0.5],\n",
    "          [1.1, 0.7]]\n",
    "\n",
    "# Genera información de prueba\n",
    "np.random.seed(42)  # Establecer semilla para la reproducibilidad\n",
    "xpts = np.zeros(1)\n",
    "ypts = np.zeros(1)\n",
    "labels = np.zeros(1)\n",
    "for i, ((xmu, ymu), (xsigma, ysigma)) in enumerate(zip(centers, sigmas)):\n",
    "    xpts = np.hstack((xpts, np.random.standard_normal(200) * xsigma + xmu))\n",
    "    ypts = np.hstack((ypts, np.random.standard_normal(200) * ysigma + ymu))\n",
    "    labels = np.hstack((labels, np.ones(200) * i))\n",
    "\n",
    "# Visualizar los datos de prueba\n",
    "fig0, ax0 = plt.subplots()\n",
    "for label in range(3):\n",
    "    ax0.plot(xpts[labels == label], ypts[labels == label], '.',\n",
    "             color=colors[label])\n",
    "ax0.set_title('Test data: 200 points x3 clusters.')"
   ]
  },
  {
   "cell_type": "markdown",
   "id": "6ef20a14",
   "metadata": {},
   "source": [
    "## Clustering\n",
    "\n",
    "Arriba están los datos de prueba.\n",
    "    * Se ven tres manchas distintas.\n",
    "    * ¿Quizás si los datos no estan tan claramente agrupados?\n",
    "\n",
    "* A continuación se intenta agrupar los datos varias veces, con entre 2 y 9 grupos."
   ]
  },
  {
   "cell_type": "code",
   "execution_count": null,
   "id": "b4e5d0fa",
   "metadata": {},
   "outputs": [],
   "source": [
    "# Configurar el bucle y trazar\n",
    "fig1, axes1 = plt.subplots(3, 3, figsize=(8, 8))\n",
    "alldata = np.vstack((xpts, ypts))\n",
    "fpcs = []\n",
    "\n",
    "for ncenters, ax in enumerate(axes1.reshape(-1), 2):\n",
    "    cntr, u, u0, d, jm, p, fpc = fuzz.cluster.cmeans(\n",
    "        alldata, ncenters, 2, error=0.005, maxiter=1000, init=None)\n",
    "\n",
    "    # Almacenar valores fpc para más tarde\n",
    "    fpcs.append(fpc)\n",
    "\n",
    "    # Trazar grupos asignados, para cada punto de datos en el conjunto de entrenamiento\n",
    "    cluster_membership = np.argmax(u, axis=0)\n",
    "    for j in range(ncenters):\n",
    "        ax.plot(xpts[cluster_membership == j],\n",
    "                ypts[cluster_membership == j], '.', color=colors[j])\n",
    "\n",
    "    # Marcar el centro de cada grupo borroso\n",
    "    for pt in cntr:\n",
    "        ax.plot(pt[0], pt[1], 'rs')\n",
    "\n",
    "    ax.set_title('Centers = {0}; FPC = {1:.2f}'.format(ncenters, fpc))\n",
    "    ax.axis('off')\n",
    "\n",
    "fig1.tight_layout()"
   ]
  },
  {
   "cell_type": "markdown",
   "id": "fa0165ea",
   "metadata": {},
   "source": [
    "## El coeficiente de partición difusa (FPC)\n",
    "Se define en el rango de 0 a 1, siendo 1 el mejor. Es una métrica que indica cuán limpiamente los datos son descritos por un determinado modelo. Luego se muestran los resultados de la agrupación y se traza el coeficiente de partición difusa. Cuando se maximiza el FPC, los datos se describen mejor. \n",
    "\n",
    "Tener el FPC disponible puede ser muy útil cuando la estructura de sus datos no está clara. Tenga en cuenta que se comenzó con dos centros, no uno; agrupar un conjunto de datos con un solo centro de clúster es la solución trivial y, por definición, devolverá FPC == 1."
   ]
  },
  {
   "cell_type": "markdown",
   "id": "0ddf9e8b",
   "metadata": {},
   "source": [
    "\n",
    "3. Implementar alguno de los siguientes algoritmos que emplean lógica difusa (vistos en clase), como una función de phyton:\n",
    "\n",
    "\n",
    "    3.1 Detector de bordes difuso3 .\n",
    "\n",
    "    3.2 Segmentación difusa por umbralización4 ."
   ]
  },
  {
   "cell_type": "code",
   "execution_count": 5,
   "id": "2c6b2025",
   "metadata": {},
   "outputs": [
    {
     "ename": "NameError",
     "evalue": "name 'fpcs' is not defined",
     "output_type": "error",
     "traceback": [
      "\u001b[1;31m---------------------------------------------------------------------------\u001b[0m",
      "\u001b[1;31mNameError\u001b[0m                                 Traceback (most recent call last)",
      "\u001b[1;32mc:\\Users\\ervys\\OneDrive\\Desktop\\TIAGIT\\tecnicasDeInteligenciaArtificial\\BCV_ELF_Taller8_SistemasDifusosEnVisionDeMaquina\\BCV_ELF_Taller8_SistemasDifusosEnVisionDeMaquina.ipynb Cell 12'\u001b[0m in \u001b[0;36m<cell line: 2>\u001b[1;34m()\u001b[0m\n\u001b[0;32m      <a href='vscode-notebook-cell:/c%3A/Users/ervys/OneDrive/Desktop/TIAGIT/tecnicasDeInteligenciaArtificial/BCV_ELF_Taller8_SistemasDifusosEnVisionDeMaquina/BCV_ELF_Taller8_SistemasDifusosEnVisionDeMaquina.ipynb#ch0000012?line=0'>1</a>\u001b[0m fig2, ax2 \u001b[39m=\u001b[39m plt\u001b[39m.\u001b[39msubplots()\n\u001b[1;32m----> <a href='vscode-notebook-cell:/c%3A/Users/ervys/OneDrive/Desktop/TIAGIT/tecnicasDeInteligenciaArtificial/BCV_ELF_Taller8_SistemasDifusosEnVisionDeMaquina/BCV_ELF_Taller8_SistemasDifusosEnVisionDeMaquina.ipynb#ch0000012?line=1'>2</a>\u001b[0m ax2\u001b[39m.\u001b[39mplot(np\u001b[39m.\u001b[39mr_[\u001b[39m2\u001b[39m:\u001b[39m11\u001b[39m], fpcs)\n\u001b[0;32m      <a href='vscode-notebook-cell:/c%3A/Users/ervys/OneDrive/Desktop/TIAGIT/tecnicasDeInteligenciaArtificial/BCV_ELF_Taller8_SistemasDifusosEnVisionDeMaquina/BCV_ELF_Taller8_SistemasDifusosEnVisionDeMaquina.ipynb#ch0000012?line=2'>3</a>\u001b[0m ax2\u001b[39m.\u001b[39mset_xlabel(\u001b[39m\"\u001b[39m\u001b[39mNumber of centers\u001b[39m\u001b[39m\"\u001b[39m)\n\u001b[0;32m      <a href='vscode-notebook-cell:/c%3A/Users/ervys/OneDrive/Desktop/TIAGIT/tecnicasDeInteligenciaArtificial/BCV_ELF_Taller8_SistemasDifusosEnVisionDeMaquina/BCV_ELF_Taller8_SistemasDifusosEnVisionDeMaquina.ipynb#ch0000012?line=3'>4</a>\u001b[0m ax2\u001b[39m.\u001b[39mset_ylabel(\u001b[39m\"\u001b[39m\u001b[39mFuzzy partition coefficient\u001b[39m\u001b[39m\"\u001b[39m)\n",
      "\u001b[1;31mNameError\u001b[0m: name 'fpcs' is not defined"
     ]
    },
    {
     "data": {
      "image/png": "[encoded data removed]",
      "text/plain": [
       "<Figure size 432x288 with 1 Axes>"
      ]
     },
     "metadata": {
      "needs_background": "light"
     },
     "output_type": "display_data"
    }
   ],
   "source": [
    "fig2, ax2 = plt.subplots()\n",
    "ax2.plot(np.r_[2:11], fpcs)\n",
    "ax2.set_xlabel(\"Number of centers\")\n",
    "ax2.set_ylabel(\"Fuzzy partition coefficient\")"
   ]
  },
  {
   "cell_type": "markdown",
   "id": "c5953985",
   "metadata": {},
   "source": [
    "## Modelo\n",
    "* Sabemos que nuestro mejor modelo tiene tres centros de conglomerados.\n",
    "* Reconstruiremos un modelo de 3 grupos para usarlo en la predicción, generar nuevos datos uniformes y predecir a qué grupo pertenece cada nuevo punto de datos."
   ]
  },
  {
   "cell_type": "code",
   "execution_count": 6,
   "id": "718e8fba",
   "metadata": {},
   "outputs": [
    {
     "ename": "SyntaxError",
     "evalue": "invalid syntax (3071892787.py, line 2)",
     "output_type": "error",
     "traceback": [
      "\u001b[1;36m  Input \u001b[1;32mIn [6]\u001b[1;36m\u001b[0m\n\u001b[1;33m    * Sabemos que nuestro mejor modelo tiene tres centros de conglomerados.\u001b[0m\n\u001b[1;37m              ^\u001b[0m\n\u001b[1;31mSyntaxError\u001b[0m\u001b[1;31m:\u001b[0m invalid syntax\n"
     ]
    }
   ],
   "source": [
    "# Regenerar el modelo borroso con 3 centros de conglomerados: tenga en cuenta que el orden de los centros\n",
    "# es aleatorio en este algoritmo de agrupación, por lo que los centros pueden cambiar de lugar\n",
    "cntr, u_orig, _, _, _, _, _ = fuzz.cluster.cmeans(\n",
    "    alldata, 3, 2, error=0.005, maxiter=1000)\n",
    "\n",
    "# Show 3-cluster model\n",
    "fig2, ax2 = plt.subplots()\n",
    "ax2.set_title('Trained model')\n",
    "for j in range(3):\n",
    "    ax2.plot(alldata[0, u_orig.argmax(axis=0) == j],\n",
    "             alldata[1, u_orig.argmax(axis=0) == j], 'o',\n",
    "             label='series ' + str(j))\n",
    "ax2.legend()"
   ]
  },
  {
   "cell_type": "markdown",
   "id": "87c4d349",
   "metadata": {},
   "source": [
    "# Predicción\n",
    "* Finalmente, generamos datos muestreados uniformemente sobre este campo y los clasificamos a través de cmeans_predict, incorporándolos al modelo preexistente."
   ]
  },
  {
   "cell_type": "code",
   "execution_count": null,
   "id": "6e878a68",
   "metadata": {},
   "outputs": [],
   "source": [
    "# Genere datos muestreados uniformemente distribuidos en el rango [0, 10] en x e y\n",
    "newdata = np.random.uniform(0, 1, (1100, 2)) * 10\n",
    "\n",
    "# Predecir nuevos miembros del clúster con `cmeans_predict` así como\n",
    "# `cntr`del modelo de 3 clústeres\n",
    "u, u0, d, jm, p, fpc = fuzz.cluster.cmeans_predict(\n",
    "    newdata.T, cntr, 2, error=0.005, maxiter=1000)\n",
    "\n",
    "# Trazar los datos uniformes clasificados. Tenga en cuenta para la visualización el máximo\n",
    "# valor de membresía se ha tomado en cada punto (es decir, estos se endurecen,\n",
    "# no se visualizan resultados borrosos) pero el resultado borroso completo es la salida\n",
    "# from cmeans_predict.\n",
    "cluster_membership = np.argmax(u, axis=0)  # Hardening for visualization\n",
    "\n",
    "fig3, ax3 = plt.subplots()\n",
    "ax3.set_title('Random points classifed according to known centers')\n",
    "for j in range(3):\n",
    "    ax3.plot(newdata[cluster_membership == j, 0],\n",
    "             newdata[cluster_membership == j, 1], 'o',\n",
    "             label='series ' + str(j))\n",
    "ax3.legend()\n",
    "\n",
    "plt.show()"
   ]
  },
  {
   "cell_type": "markdown",
   "id": "bdca48b0",
   "metadata": {},
   "source": [
    "## Desarrollo"
   ]
  }
 ],
 "metadata": {
  "interpreter": {
   "hash": "2cc7312ac55238f9be9df14054f131e8e300a9a274a1be1e0477ee0167611bd1"
  },
  "kernelspec": {
   "display_name": "Python 3.9.12 ('base')",
   "language": "python",
   "name": "python3"
  },
  "language_info": {
   "codemirror_mode": {
    "name": "ipython",
    "version": 3
   },
   "file_extension": ".py",
   "mimetype": "text/x-python",
   "name": "python",
   "nbconvert_exporter": "python",
   "pygments_lexer": "ipython3",
   "version": "3.9.12"
  }
 },
 "nbformat": 4,
 "nbformat_minor": 5
}
