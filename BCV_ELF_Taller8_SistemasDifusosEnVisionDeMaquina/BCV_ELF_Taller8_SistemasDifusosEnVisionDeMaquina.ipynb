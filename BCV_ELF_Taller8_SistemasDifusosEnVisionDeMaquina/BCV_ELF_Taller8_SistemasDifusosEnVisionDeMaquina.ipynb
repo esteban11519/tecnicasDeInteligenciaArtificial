{
 "cells": [
  {
   "cell_type": "markdown",
   "id": "93354ab9-4efd-4f00-a2ae-c7870816b9c6",
   "metadata": {},
   "source": [
    "<p style=\"font-size:300%; background-color:pink; color:blue; text-align:center;line-height : 80px; margin : 0; padding : 0;\">\n",
    "Taller 8: Sistemas difusos en visión de máquina</p>\n",
    "<p style=\"font-size:240%; background-color:pink; color:red; text-align:center;line-height : 60px; margin : 0; padding : 0;\">\n",
    "    \n",
    "Técnicas de Inteligencia Artificial - Visión de Máquina </p1>\n",
    "\n",
    "<p style=\"font-size:200%; text-align:center; line-height : 40px;  margin-top : 0; margin-bottom : 0; \"> \n",
    "  <br>Est. Brian Camilo Valencia Peña (bcvalenciap@unal.edu.co)\n",
    "  <br>Est. Esteban Ladino Fajardo (eladinof@unal.edu.co)\n",
    "</p>\n",
    "\n",
    "<p style=\"font-size:180%; text-align:center; line-height : 30px;  margin-top : 0; margin-bottom : 0; \"> <br><br>INGENIERÍA ELECTRÓNICA</p>\n",
    "<p style=\"font-size:180%; text-align:center; line-height : 30px; margin-top : 0; \"> Facultad de Ingeniería</p>\n",
    "<p style=\"font-size:160%; text-align:center; line-height : 30px; margin-top : 0; \"> Universidad Nacional de Colombia Sede Bogotá</p>\n",
    "<br>\n",
    "<img src=\"figs/Escudo_UN.png\",width=100,height=100>\n",
    "\n",
    "<p style=\"font-size:160%; text-align:center; line-height : 30px; margin-top : 0; \"> <br>20 de Junio de 2022</p>"
   ]
  },
  {
   "cell_type": "markdown",
   "id": "02acb708",
   "metadata": {},
   "source": [
    "## Enunciado\n",
    "\n",
    "1. Estudiar las funciones en API Reference, de la biblioteca\n",
    "Scikit-Fuzzy. http://pythonhosted.org/scikit-fuzzy/api/api.html\n",
    "\n",
    "\n",
    "2.  Estudiar el ejemplo: Fuzzy Control Systems: The Tipping Problem, en la misma biblioteca.\n",
    "\n",
    "\n",
    "3. Implementar alguno de los siguientes algoritmos que emplean lógica difusa (vistos en clase), como una función de phyton:\n",
    "\n",
    "\n",
    "    3.1 Detector de bordes difuso3 .\n",
    "\n",
    "    3.2 Segmentación difusa por umbralización4 .\n",
    "\n"
   ]
  },
  {
   "cell_type": "markdown",
   "id": "bdca48b0",
   "metadata": {},
   "source": [
    "## Desarrollo"
   ]
  }
 ],
 "metadata": {
  "kernelspec": {
   "display_name": "Python 3 (ipykernel)",
   "language": "python",
   "name": "python3"
  },
  "language_info": {
   "codemirror_mode": {
    "name": "ipython",
    "version": 3
   },
   "file_extension": ".py",
   "mimetype": "text/x-python",
   "name": "python",
   "nbconvert_exporter": "python",
   "pygments_lexer": "ipython3",
   "version": "3.8.10"
  }
 },
 "nbformat": 4,
 "nbformat_minor": 5
}
