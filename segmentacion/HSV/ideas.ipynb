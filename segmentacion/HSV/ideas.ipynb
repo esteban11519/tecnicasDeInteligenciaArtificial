{
 "cells": [
  {
   "cell_type": "markdown",
   "metadata": {},
   "source": [
    "# Ideas para terminar la segmentación\n",
    "\n",
    "1. Hallar los valores mínimos y máximos el RGB en los fondos que no logran ser filtrados por color.\n",
    "\n",
    "2. Hallar a ecuación de la elipse que encierra a cada fruto.\n",
    "\n",
    "3. Hacer el filtrado morfológico y las erosiones en escala de grises.\n",
    "\n",
    "Se realizó y se obtuvieron algunas mejoras. Creo que en especial por parte de procesamiento se demora menos y para la umbralización se usa un método adaptativo.\n",
    "\n",
    "4. Realizar el Watershed, tengo esperanza que puede dar severos resultados"
   ]
  },
  {
   "cell_type": "code",
   "execution_count": 3,
   "metadata": {},
   "outputs": [],
   "source": [
    "#Librerías necesarias\n",
    "import cv2\n",
    "from matplotlib import pyplot as plt\n",
    "import math\n",
    "import numpy as np"
   ]
  },
  {
   "cell_type": "code",
   "execution_count": 8,
   "metadata": {},
   "outputs": [
    {
     "name": "stdout",
     "output_type": "stream",
     "text": [
      "[[[ 60 255 255]]]\n"
     ]
    }
   ],
   "source": [
    "green = np.uint8([[[0, 255, 0]]]) #here insert the RGB values which you want to convert to hsv\n",
    "hsvGreen = cv2.cvtColor(green, cv2.COLOR_RGB2HSV)\n",
    "print(hsvGreen)"
   ]
  },
  {
   "cell_type": "code",
   "execution_count": null,
   "metadata": {},
   "outputs": [],
   "source": [
    "\n",
    "def filtradoEnColor(image_blur):\n",
    "    # Rango de color para eliminar el verde\n",
    "    light_green = (40, 40, 40)\n",
    "    dark_green = (70, 255, 255)\n",
    "\n",
    "    # Rango de color para eliminar la luz [rrr2]\n",
    "\n",
    "    light_white = (0, 0, 231)\n",
    "    dark_white = (180, 18, 255)\n",
    "\n",
    "    # Filtrado en verde\n",
    "    # conversion a HSV (matiz, saturación, valor)\n",
    "    image_blur_HSV= cv2.cvtColor(image_blur, cv2.COLOR_RGB2HSV)\n",
    "    mask = cv2.inRange(image_blur_HSV, light_green, dark_green)\n",
    "    result = cv2.bitwise_and(image_blur, image_blur, mask=mask)\n",
    "    resultadoSinVerde=cv2.subtract(image_blur,result)\n",
    "\n",
    "    # Filtrado en blanco\n",
    "    mask = cv2.inRange(image_blur_HSV, light_white, dark_white)\n",
    "    result = cv2.bitwise_and(image_blur, image_blur, mask=mask)\n",
    "    resultadoSinBlanco=cv2.subtract(resultadoSinVerde,result)\n",
    "\n",
    "    return resultadoSinBlanco"
   ]
  }
 ],
 "metadata": {
  "interpreter": {
   "hash": "916dbcbb3f70747c44a77c7bcd40155683ae19c65e1c03b4aa3499c5328201f1"
  },
  "kernelspec": {
   "display_name": "Python 3.8.10 64-bit",
   "language": "python",
   "name": "python3"
  },
  "language_info": {
   "codemirror_mode": {
    "name": "ipython",
    "version": 3
   },
   "file_extension": ".py",
   "mimetype": "text/x-python",
   "name": "python",
   "nbconvert_exporter": "python",
   "pygments_lexer": "ipython3",
   "version": "3.8.10"
  },
  "orig_nbformat": 4
 },
 "nbformat": 4,
 "nbformat_minor": 2
}
