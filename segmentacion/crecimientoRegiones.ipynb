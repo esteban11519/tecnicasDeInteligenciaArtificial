{
 "cells": [
  {
   "cell_type": "code",
   "execution_count": 2,
   "metadata": {},
   "outputs": [],
   "source": [
    "## Este código fue tomado de Tutor de Programación [15] y modificado levemente.\n",
    "\n",
    "import cv2\n",
    "import numpy as np\n",
    "import math\n",
    "\n",
    "tolerancia = 1\n",
    "point = (0, 0)\n",
    "\n",
    "def floodFill():\n",
    "    src = img.copy()\n",
    "\n",
    "    connectivity = 4\n",
    "    flags = connectivity\n",
    "    flags |= cv2.FLOODFILL_FIXED_RANGE\n",
    "\n",
    "    cv2.floodFill(src, None, point, (255, 0, 0), (tolerancia,) * 3, (tolerancia,) * 3, flags)\n",
    "    cv2.imshow('relleno', src)\n",
    "\n",
    "def mouse_clic(event, x, y, flags, param):\n",
    "    if event == cv2.EVENT_LBUTTONUP:\n",
    "        global point\n",
    "        point = (x, y)\n",
    "        floodFill()\n",
    "\n",
    "def trackbar_value(value):\n",
    "    global tolerancia\n",
    "    tolerancia = value\n",
    "    floodFill()\n",
    "\n",
    "def main():\n",
    "    global img\n",
    "\n",
    "    winname = 'Flood fill'\n",
    "    img = cv2.imread('../figs/imgsReto/Fito/Fito1.jpg')\n",
    "    \n",
    "    n=img.shape[0]\n",
    "    m=img.shape[1]\n",
    "    minSize=512\n",
    "    escala= (math.ceil(min(n,m)/minSize))**(-1)\n",
    "    img= cv2.resize(img, None, fx=escala, fy= escala,\\\n",
    "    interpolation= cv2.INTER_LINEAR)\n",
    "\n",
    "    cv2.namedWindow(winname)\n",
    "    cv2.setMouseCallback(winname, mouse_clic, img)\n",
    "    cv2.createTrackbar('Tolerancia', winname, tolerancia, 100, trackbar_value)\n",
    "\n",
    "    while(1):\n",
    "        cv2.imshow(winname, img)\n",
    "        if cv2.waitKey(0):\n",
    "            break\n",
    "\n",
    "    cv2.destroyAllWindows()\n",
    "\n",
    "main()"
   ]
  }
 ],
 "metadata": {
  "interpreter": {
   "hash": "916dbcbb3f70747c44a77c7bcd40155683ae19c65e1c03b4aa3499c5328201f1"
  },
  "kernelspec": {
   "display_name": "Python 3.8.10 64-bit",
   "language": "python",
   "name": "python3"
  },
  "language_info": {
   "codemirror_mode": {
    "name": "ipython",
    "version": 3
   },
   "file_extension": ".py",
   "mimetype": "text/x-python",
   "name": "python",
   "nbconvert_exporter": "python",
   "pygments_lexer": "ipython3",
   "version": "3.8.10"
  },
  "orig_nbformat": 4
 },
 "nbformat": 4,
 "nbformat_minor": 2
}
